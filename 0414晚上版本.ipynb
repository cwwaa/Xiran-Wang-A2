{
 "cells": [
  {
   "cell_type": "code",
   "execution_count": 1,
   "id": "67a636e1",
   "metadata": {},
   "outputs": [],
   "source": [
    "import warnings\n",
    "warnings.filterwarnings('ignore')\n",
    "\n",
    "import pandas as pd\n",
    "import numpy as np\n",
    "from scipy import stats\n",
    "from matplotlib import style\n",
    "import seaborn as sns\n",
    "from matplotlib import pyplot as plt\n",
    "import statsmodels.formula.api as smf\n",
    "import graphviz as gr\n",
    "\n",
    "style.use(\"fivethirtyeight\")"
   ]
  },
  {
   "cell_type": "markdown",
   "id": "cc326188",
   "metadata": {},
   "source": [
    "Question 1\n",
    "Covariates\n",
    "\n",
    "[Covariates only have effects on Y]\n",
    "\n",
    "#Y = alpha + beta * X +e\n",
    "\n",
    "a. fail to control Covariates \n",
    "\n",
    "$Y = a0 + b0 * X1+c0*X2+u$\n",
    "\n",
    "\n",
    "x2 is Dummy varaible\n",
    "\n",
    "\n",
    "b.controlled the Covariates \n",
    "\n",
    "$Y = a0 + b0 * X + c0* X2+ d0 * Covariates+u$\n"
   ]
  },
  {
   "cell_type": "code",
   "execution_count": 59,
   "id": "be3a26d0",
   "metadata": {},
   "outputs": [],
   "source": [
    "##n=100, without controlled covariates\n",
    "\n",
    "np.random.seed(24)\n",
    "n = 100\n",
    "\n",
    "X1 = np.random.normal(0.3,2,n)\n",
    "X2 = np.random.binomial(1, 0.5, n)\n",
    "\n",
    "Y = np.random.normal (3 + 0.78*X1-0.05*X2).astype(int)\n",
    "\n",
    "data = pd.DataFrame(dict(Y=Y,\n",
    "                         X1=X1,\n",
    "                         X2=X2))\n",
    "\n",
    "data.to_csv(\"CO100.csv\")"
   ]
  },
  {
   "cell_type": "code",
   "execution_count": null,
   "id": "0d28f052",
   "metadata": {},
   "outputs": [],
   "source": []
  },
  {
   "cell_type": "code",
   "execution_count": 60,
   "id": "5df8feb9",
   "metadata": {},
   "outputs": [],
   "source": [
    "##n=1000, without controlled covariates\n",
    "\n",
    "np.random.seed(24)\n",
    "n = 1000\n",
    "\n",
    "X1 = np.random.normal(0.3,2,n)\n",
    "X2 = np.random.binomial(1, 0.5, n)\n",
    "\n",
    "Y = np.random.normal (3 + 0.78*X1-0.05*X2).astype(int)\n",
    "\n",
    "data = pd.DataFrame(dict(Y=Y,\n",
    "                         X1=X1,\n",
    "                         X2=X2))\n",
    "\n",
    "data.to_csv(\"CO1000.csv\")"
   ]
  },
  {
   "cell_type": "code",
   "execution_count": 18,
   "id": "7682db15",
   "metadata": {},
   "outputs": [],
   "source": []
  },
  {
   "cell_type": "code",
   "execution_count": 64,
   "id": "7e750154",
   "metadata": {},
   "outputs": [],
   "source": [
    "##n=100, controlled covariates\n",
    "\n",
    "np.random.seed(24)\n",
    "n = 100\n",
    "\n",
    "X1 = np.random.normal(0.3,2,n)\n",
    "X2 = np.random.binomial(1, 0.5, n)\n",
    "x3 = np.random.normal (3, 4, n)\n",
    "###x is the covariates\n",
    "\n",
    "Y = np.random.normal (3 + 0.78*X1-0.05*X2+0.9 * covariates).astype(int)\n",
    "\n",
    "data = pd.DataFrame(dict(Y=Y,\n",
    "                         X1=X1,\n",
    "                         X2=X2,\n",
    "                         x3=x3))\n",
    "\n",
    "data.to_csv(\"CO100controlled.csv\")"
   ]
  },
  {
   "cell_type": "code",
   "execution_count": 66,
   "id": "6965bfc0",
   "metadata": {},
   "outputs": [],
   "source": [
    "##n=100, controlled covariates\n",
    "\n",
    "\n",
    "n = 1000\n",
    "\n",
    "X1 = np.random.normal(0.3,2,n)\n",
    "X2 = np.random.binomial(1, 0.5, n)\n",
    "x3 = np.random.normal (3, 3, n)\n",
    "\n",
    "Y = np.random.normal (3+0.78*X1-0.05*X2+0.9 * x3).astype(int)\n",
    "\n",
    "data = pd.DataFrame(dict(Y=Y,\n",
    "                         X1=X1,\n",
    "                         X2=X2,\n",
    "                         x3=x3))\n",
    "\n",
    "data.to_csv(\"CO1000controlled.csv\")"
   ]
  },
  {
   "cell_type": "code",
   "execution_count": 67,
   "id": "b507ac00",
   "metadata": {},
   "outputs": [
    {
     "data": {
      "text/html": [
       "<div>\n",
       "<style scoped>\n",
       "    .dataframe tbody tr th:only-of-type {\n",
       "        vertical-align: middle;\n",
       "    }\n",
       "\n",
       "    .dataframe tbody tr th {\n",
       "        vertical-align: top;\n",
       "    }\n",
       "\n",
       "    .dataframe thead th {\n",
       "        text-align: right;\n",
       "    }\n",
       "</style>\n",
       "<table border=\"1\" class=\"dataframe\">\n",
       "  <thead>\n",
       "    <tr style=\"text-align: right;\">\n",
       "      <th></th>\n",
       "      <th>Unnamed: 0</th>\n",
       "      <th>Y</th>\n",
       "      <th>X1</th>\n",
       "      <th>X2</th>\n",
       "    </tr>\n",
       "  </thead>\n",
       "  <tbody>\n",
       "    <tr>\n",
       "      <th>0</th>\n",
       "      <td>0</td>\n",
       "      <td>6</td>\n",
       "      <td>2.958424</td>\n",
       "      <td>1</td>\n",
       "    </tr>\n",
       "    <tr>\n",
       "      <th>1</th>\n",
       "      <td>1</td>\n",
       "      <td>2</td>\n",
       "      <td>-1.240067</td>\n",
       "      <td>0</td>\n",
       "    </tr>\n",
       "    <tr>\n",
       "      <th>2</th>\n",
       "      <td>2</td>\n",
       "      <td>3</td>\n",
       "      <td>-0.332561</td>\n",
       "      <td>1</td>\n",
       "    </tr>\n",
       "    <tr>\n",
       "      <th>3</th>\n",
       "      <td>3</td>\n",
       "      <td>2</td>\n",
       "      <td>-1.681621</td>\n",
       "      <td>0</td>\n",
       "    </tr>\n",
       "    <tr>\n",
       "      <th>4</th>\n",
       "      <td>4</td>\n",
       "      <td>1</td>\n",
       "      <td>-1.841633</td>\n",
       "      <td>1</td>\n",
       "    </tr>\n",
       "  </tbody>\n",
       "</table>\n",
       "</div>"
      ],
      "text/plain": [
       "   Unnamed: 0  Y        X1  X2\n",
       "0           0  6  2.958424   1\n",
       "1           1  2 -1.240067   0\n",
       "2           2  3 -0.332561   1\n",
       "3           3  2 -1.681621   0\n",
       "4           4  1 -1.841633   1"
      ]
     },
     "execution_count": 67,
     "metadata": {},
     "output_type": "execute_result"
    }
   ],
   "source": [
    "data = pd.read_csv(\"/Users/cwwa/Desktop/ECON 570/A2/CO100.csv\")\n",
    "data.head()"
   ]
  },
  {
   "cell_type": "code",
   "execution_count": 107,
   "id": "7b9991a9",
   "metadata": {},
   "outputs": [
    {
     "data": {
      "text/html": [
       "<table class=\"simpletable\">\n",
       "<tr>\n",
       "      <td></td>         <th>coef</th>     <th>std err</th>      <th>t</th>      <th>P>|t|</th>  <th>[0.025</th>    <th>0.975]</th>  \n",
       "</tr>\n",
       "<tr>\n",
       "  <th>Intercept</th> <td>   17.4291</td> <td>    0.452</td> <td>   38.587</td> <td> 0.000</td> <td>   16.543</td> <td>   18.315</td>\n",
       "</tr>\n",
       "<tr>\n",
       "  <th>X2</th>        <td>   -3.6122</td> <td>    0.954</td> <td>   -3.785</td> <td> 0.000</td> <td>   -5.485</td> <td>   -1.739</td>\n",
       "</tr>\n",
       "</table>"
      ],
      "text/plain": [
       "<class 'statsmodels.iolib.table.SimpleTable'>"
      ]
     },
     "execution_count": 107,
     "metadata": {},
     "output_type": "execute_result"
    }
   ],
   "source": [
    "model = smf.ols('Y ~ X2', data=data).fit()\n",
    "model.summary().tables[1]"
   ]
  },
  {
   "cell_type": "code",
   "execution_count": 113,
   "id": "8f6287c9",
   "metadata": {},
   "outputs": [
    {
     "data": {
      "text/html": [
       "<table class=\"simpletable\">\n",
       "<tr>\n",
       "      <td></td>         <th>coef</th>     <th>std err</th>      <th>t</th>      <th>P>|t|</th>  <th>[0.025</th>    <th>0.975]</th>  \n",
       "</tr>\n",
       "<tr>\n",
       "  <th>Intercept</th> <td>   18.7174</td> <td>    3.175</td> <td>    5.895</td> <td> 0.000</td> <td>   12.487</td> <td>   24.948</td>\n",
       "</tr>\n",
       "<tr>\n",
       "  <th>X1</th>        <td>   -0.3223</td> <td>    0.786</td> <td>   -0.410</td> <td> 0.682</td> <td>   -1.865</td> <td>    1.221</td>\n",
       "</tr>\n",
       "<tr>\n",
       "  <th>X2</th>        <td>   -3.5987</td> <td>    0.955</td> <td>   -3.767</td> <td> 0.000</td> <td>   -5.473</td> <td>   -1.724</td>\n",
       "</tr>\n",
       "</table>"
      ],
      "text/plain": [
       "<class 'statsmodels.iolib.table.SimpleTable'>"
      ]
     },
     "execution_count": 113,
     "metadata": {},
     "output_type": "execute_result"
    }
   ],
   "source": [
    "model_2 = smf.ols('Y ~ X1 + X2', data=data).fit()\n",
    "model_2.summary().tables[1]"
   ]
  },
  {
   "cell_type": "code",
   "execution_count": null,
   "id": "1e2de9dc",
   "metadata": {},
   "outputs": [],
   "source": []
  },
  {
   "cell_type": "code",
   "execution_count": null,
   "id": "a26fcf8c",
   "metadata": {},
   "outputs": [],
   "source": []
  },
  {
   "cell_type": "code",
   "execution_count": 68,
   "id": "2133f3f7",
   "metadata": {},
   "outputs": [
    {
     "data": {
      "text/html": [
       "<div>\n",
       "<style scoped>\n",
       "    .dataframe tbody tr th:only-of-type {\n",
       "        vertical-align: middle;\n",
       "    }\n",
       "\n",
       "    .dataframe tbody tr th {\n",
       "        vertical-align: top;\n",
       "    }\n",
       "\n",
       "    .dataframe thead th {\n",
       "        text-align: right;\n",
       "    }\n",
       "</style>\n",
       "<table border=\"1\" class=\"dataframe\">\n",
       "  <thead>\n",
       "    <tr style=\"text-align: right;\">\n",
       "      <th></th>\n",
       "      <th>Unnamed: 0</th>\n",
       "      <th>Y</th>\n",
       "      <th>X1</th>\n",
       "      <th>X2</th>\n",
       "    </tr>\n",
       "  </thead>\n",
       "  <tbody>\n",
       "    <tr>\n",
       "      <th>0</th>\n",
       "      <td>0</td>\n",
       "      <td>3</td>\n",
       "      <td>2.958424</td>\n",
       "      <td>0</td>\n",
       "    </tr>\n",
       "    <tr>\n",
       "      <th>1</th>\n",
       "      <td>1</td>\n",
       "      <td>3</td>\n",
       "      <td>-1.240067</td>\n",
       "      <td>1</td>\n",
       "    </tr>\n",
       "    <tr>\n",
       "      <th>2</th>\n",
       "      <td>2</td>\n",
       "      <td>1</td>\n",
       "      <td>-0.332561</td>\n",
       "      <td>1</td>\n",
       "    </tr>\n",
       "    <tr>\n",
       "      <th>3</th>\n",
       "      <td>3</td>\n",
       "      <td>1</td>\n",
       "      <td>-1.681621</td>\n",
       "      <td>0</td>\n",
       "    </tr>\n",
       "    <tr>\n",
       "      <th>4</th>\n",
       "      <td>4</td>\n",
       "      <td>1</td>\n",
       "      <td>-1.841633</td>\n",
       "      <td>0</td>\n",
       "    </tr>\n",
       "  </tbody>\n",
       "</table>\n",
       "</div>"
      ],
      "text/plain": [
       "   Unnamed: 0  Y        X1  X2\n",
       "0           0  3  2.958424   0\n",
       "1           1  3 -1.240067   1\n",
       "2           2  1 -0.332561   1\n",
       "3           3  1 -1.681621   0\n",
       "4           4  1 -1.841633   0"
      ]
     },
     "execution_count": 68,
     "metadata": {},
     "output_type": "execute_result"
    }
   ],
   "source": [
    "data = pd.read_csv(\"/Users/cwwa/Desktop/ECON 570/A2/CO1000.csv\")\n",
    "data.head()"
   ]
  },
  {
   "cell_type": "code",
   "execution_count": 109,
   "id": "be77e320",
   "metadata": {},
   "outputs": [
    {
     "data": {
      "text/html": [
       "<table class=\"simpletable\">\n",
       "<tr>\n",
       "      <td></td>         <th>coef</th>     <th>std err</th>      <th>t</th>      <th>P>|t|</th>  <th>[0.025</th>    <th>0.975]</th>  \n",
       "</tr>\n",
       "<tr>\n",
       "  <th>Intercept</th> <td>   17.4291</td> <td>    0.452</td> <td>   38.587</td> <td> 0.000</td> <td>   16.543</td> <td>   18.315</td>\n",
       "</tr>\n",
       "<tr>\n",
       "  <th>X2</th>        <td>   -3.6122</td> <td>    0.954</td> <td>   -3.785</td> <td> 0.000</td> <td>   -5.485</td> <td>   -1.739</td>\n",
       "</tr>\n",
       "</table>"
      ],
      "text/plain": [
       "<class 'statsmodels.iolib.table.SimpleTable'>"
      ]
     },
     "execution_count": 109,
     "metadata": {},
     "output_type": "execute_result"
    }
   ],
   "source": [
    "model = smf.ols('Y ~ X2', data=data).fit()\n",
    "model.summary().tables[1]"
   ]
  },
  {
   "cell_type": "code",
   "execution_count": 114,
   "id": "90298341",
   "metadata": {},
   "outputs": [
    {
     "data": {
      "text/html": [
       "<table class=\"simpletable\">\n",
       "<tr>\n",
       "      <td></td>         <th>coef</th>     <th>std err</th>      <th>t</th>      <th>P>|t|</th>  <th>[0.025</th>    <th>0.975]</th>  \n",
       "</tr>\n",
       "<tr>\n",
       "  <th>Intercept</th> <td>   18.7174</td> <td>    3.175</td> <td>    5.895</td> <td> 0.000</td> <td>   12.487</td> <td>   24.948</td>\n",
       "</tr>\n",
       "<tr>\n",
       "  <th>X1</th>        <td>   -0.3223</td> <td>    0.786</td> <td>   -0.410</td> <td> 0.682</td> <td>   -1.865</td> <td>    1.221</td>\n",
       "</tr>\n",
       "<tr>\n",
       "  <th>X2</th>        <td>   -3.5987</td> <td>    0.955</td> <td>   -3.767</td> <td> 0.000</td> <td>   -5.473</td> <td>   -1.724</td>\n",
       "</tr>\n",
       "</table>"
      ],
      "text/plain": [
       "<class 'statsmodels.iolib.table.SimpleTable'>"
      ]
     },
     "execution_count": 114,
     "metadata": {},
     "output_type": "execute_result"
    }
   ],
   "source": [
    "model_2 = smf.ols('Y ~ X1 + X2', data=data).fit()\n",
    "model_2.summary().tables[1]"
   ]
  },
  {
   "cell_type": "code",
   "execution_count": null,
   "id": "eefd88a7",
   "metadata": {},
   "outputs": [],
   "source": []
  },
  {
   "cell_type": "code",
   "execution_count": null,
   "id": "4ea6e203",
   "metadata": {},
   "outputs": [],
   "source": []
  },
  {
   "cell_type": "code",
   "execution_count": 71,
   "id": "4f4f4aa7",
   "metadata": {},
   "outputs": [
    {
     "data": {
      "text/html": [
       "<div>\n",
       "<style scoped>\n",
       "    .dataframe tbody tr th:only-of-type {\n",
       "        vertical-align: middle;\n",
       "    }\n",
       "\n",
       "    .dataframe tbody tr th {\n",
       "        vertical-align: top;\n",
       "    }\n",
       "\n",
       "    .dataframe thead th {\n",
       "        text-align: right;\n",
       "    }\n",
       "</style>\n",
       "<table border=\"1\" class=\"dataframe\">\n",
       "  <thead>\n",
       "    <tr style=\"text-align: right;\">\n",
       "      <th></th>\n",
       "      <th>Unnamed: 0</th>\n",
       "      <th>Y</th>\n",
       "      <th>X1</th>\n",
       "      <th>X2</th>\n",
       "      <th>x3</th>\n",
       "    </tr>\n",
       "  </thead>\n",
       "  <tbody>\n",
       "    <tr>\n",
       "      <th>0</th>\n",
       "      <td>0</td>\n",
       "      <td>13</td>\n",
       "      <td>2.958424</td>\n",
       "      <td>1</td>\n",
       "      <td>8.680289</td>\n",
       "    </tr>\n",
       "    <tr>\n",
       "      <th>1</th>\n",
       "      <td>1</td>\n",
       "      <td>6</td>\n",
       "      <td>-1.240067</td>\n",
       "      <td>0</td>\n",
       "      <td>5.254420</td>\n",
       "    </tr>\n",
       "    <tr>\n",
       "      <th>2</th>\n",
       "      <td>2</td>\n",
       "      <td>11</td>\n",
       "      <td>-0.332561</td>\n",
       "      <td>1</td>\n",
       "      <td>7.912982</td>\n",
       "    </tr>\n",
       "    <tr>\n",
       "      <th>3</th>\n",
       "      <td>3</td>\n",
       "      <td>5</td>\n",
       "      <td>-1.681621</td>\n",
       "      <td>0</td>\n",
       "      <td>4.934774</td>\n",
       "    </tr>\n",
       "    <tr>\n",
       "      <th>4</th>\n",
       "      <td>4</td>\n",
       "      <td>3</td>\n",
       "      <td>-1.841633</td>\n",
       "      <td>1</td>\n",
       "      <td>3.129636</td>\n",
       "    </tr>\n",
       "  </tbody>\n",
       "</table>\n",
       "</div>"
      ],
      "text/plain": [
       "   Unnamed: 0   Y        X1  X2        x3\n",
       "0           0  13  2.958424   1  8.680289\n",
       "1           1   6 -1.240067   0  5.254420\n",
       "2           2  11 -0.332561   1  7.912982\n",
       "3           3   5 -1.681621   0  4.934774\n",
       "4           4   3 -1.841633   1  3.129636"
      ]
     },
     "execution_count": 71,
     "metadata": {},
     "output_type": "execute_result"
    }
   ],
   "source": [
    "data = pd.read_csv(\"/Users/cwwa/Desktop/ECON 570/A2/CO100controlled.csv\")\n",
    "data.head()"
   ]
  },
  {
   "cell_type": "code",
   "execution_count": 115,
   "id": "4918ff8d",
   "metadata": {},
   "outputs": [
    {
     "data": {
      "text/html": [
       "<table class=\"simpletable\">\n",
       "<tr>\n",
       "      <td></td>         <th>coef</th>     <th>std err</th>      <th>t</th>      <th>P>|t|</th>  <th>[0.025</th>    <th>0.975]</th>  \n",
       "</tr>\n",
       "<tr>\n",
       "  <th>Intercept</th> <td>    7.0369</td> <td>    0.077</td> <td>   90.871</td> <td> 0.000</td> <td>    6.885</td> <td>    7.189</td>\n",
       "</tr>\n",
       "<tr>\n",
       "  <th>x3</th>        <td>    3.2608</td> <td>    0.016</td> <td>  203.496</td> <td> 0.000</td> <td>    3.229</td> <td>    3.292</td>\n",
       "</tr>\n",
       "</table>"
      ],
      "text/plain": [
       "<class 'statsmodels.iolib.table.SimpleTable'>"
      ]
     },
     "execution_count": 115,
     "metadata": {},
     "output_type": "execute_result"
    }
   ],
   "source": [
    "model = smf.ols('Y ~ x3', data=data).fit()\n",
    "model.summary().tables[1]"
   ]
  },
  {
   "cell_type": "code",
   "execution_count": 116,
   "id": "34704a12",
   "metadata": {},
   "outputs": [
    {
     "data": {
      "text/html": [
       "<table class=\"simpletable\">\n",
       "<tr>\n",
       "      <td></td>         <th>coef</th>     <th>std err</th>      <th>t</th>      <th>P>|t|</th>  <th>[0.025</th>    <th>0.975]</th>  \n",
       "</tr>\n",
       "<tr>\n",
       "  <th>Intercept</th> <td>    5.8624</td> <td>    0.266</td> <td>   22.034</td> <td> 0.000</td> <td>    5.340</td> <td>    6.385</td>\n",
       "</tr>\n",
       "<tr>\n",
       "  <th>X1</th>        <td>    0.5068</td> <td>    0.065</td> <td>    7.752</td> <td> 0.000</td> <td>    0.379</td> <td>    0.635</td>\n",
       "</tr>\n",
       "<tr>\n",
       "  <th>X2</th>        <td>   -3.9006</td> <td>    0.079</td> <td>  -49.126</td> <td> 0.000</td> <td>   -4.056</td> <td>   -3.745</td>\n",
       "</tr>\n",
       "<tr>\n",
       "  <th>x3</th>        <td>    3.2667</td> <td>    0.009</td> <td>  378.606</td> <td> 0.000</td> <td>    3.250</td> <td>    3.284</td>\n",
       "</tr>\n",
       "</table>"
      ],
      "text/plain": [
       "<class 'statsmodels.iolib.table.SimpleTable'>"
      ]
     },
     "execution_count": 116,
     "metadata": {},
     "output_type": "execute_result"
    }
   ],
   "source": [
    "model_2 = smf.ols('Y ~ X1 + X2 + x3', data=data).fit()\n",
    "model_2.summary().tables[1]"
   ]
  },
  {
   "cell_type": "code",
   "execution_count": null,
   "id": "a284310c",
   "metadata": {},
   "outputs": [],
   "source": []
  },
  {
   "cell_type": "code",
   "execution_count": 72,
   "id": "74a37154",
   "metadata": {},
   "outputs": [
    {
     "data": {
      "text/html": [
       "<div>\n",
       "<style scoped>\n",
       "    .dataframe tbody tr th:only-of-type {\n",
       "        vertical-align: middle;\n",
       "    }\n",
       "\n",
       "    .dataframe tbody tr th {\n",
       "        vertical-align: top;\n",
       "    }\n",
       "\n",
       "    .dataframe thead th {\n",
       "        text-align: right;\n",
       "    }\n",
       "</style>\n",
       "<table border=\"1\" class=\"dataframe\">\n",
       "  <thead>\n",
       "    <tr style=\"text-align: right;\">\n",
       "      <th></th>\n",
       "      <th>Unnamed: 0</th>\n",
       "      <th>Y</th>\n",
       "      <th>X1</th>\n",
       "      <th>X2</th>\n",
       "      <th>x3</th>\n",
       "    </tr>\n",
       "  </thead>\n",
       "  <tbody>\n",
       "    <tr>\n",
       "      <th>0</th>\n",
       "      <td>0</td>\n",
       "      <td>4</td>\n",
       "      <td>0.632849</td>\n",
       "      <td>1</td>\n",
       "      <td>1.647548</td>\n",
       "    </tr>\n",
       "    <tr>\n",
       "      <th>1</th>\n",
       "      <td>1</td>\n",
       "      <td>4</td>\n",
       "      <td>-0.675703</td>\n",
       "      <td>0</td>\n",
       "      <td>2.284284</td>\n",
       "    </tr>\n",
       "    <tr>\n",
       "      <th>2</th>\n",
       "      <td>2</td>\n",
       "      <td>3</td>\n",
       "      <td>1.784299</td>\n",
       "      <td>0</td>\n",
       "      <td>-0.356082</td>\n",
       "    </tr>\n",
       "    <tr>\n",
       "      <th>3</th>\n",
       "      <td>3</td>\n",
       "      <td>4</td>\n",
       "      <td>-0.409387</td>\n",
       "      <td>0</td>\n",
       "      <td>2.458223</td>\n",
       "    </tr>\n",
       "    <tr>\n",
       "      <th>4</th>\n",
       "      <td>4</td>\n",
       "      <td>5</td>\n",
       "      <td>-1.807167</td>\n",
       "      <td>1</td>\n",
       "      <td>3.798917</td>\n",
       "    </tr>\n",
       "  </tbody>\n",
       "</table>\n",
       "</div>"
      ],
      "text/plain": [
       "   Unnamed: 0  Y        X1  X2        x3\n",
       "0           0  4  0.632849   1  1.647548\n",
       "1           1  4 -0.675703   0  2.284284\n",
       "2           2  3  1.784299   0 -0.356082\n",
       "3           3  4 -0.409387   0  2.458223\n",
       "4           4  5 -1.807167   1  3.798917"
      ]
     },
     "execution_count": 72,
     "metadata": {},
     "output_type": "execute_result"
    }
   ],
   "source": [
    "data = pd.read_csv(\"/Users/cwwa/Desktop/ECON 570/A2/CO1000controlled.csv\")\n",
    "data.head()"
   ]
  },
  {
   "cell_type": "code",
   "execution_count": 79,
   "id": "8cfa7edc",
   "metadata": {},
   "outputs": [
    {
     "data": {
      "text/html": [
       "<table class=\"simpletable\">\n",
       "<tr>\n",
       "      <td></td>         <th>coef</th>     <th>std err</th>      <th>t</th>      <th>P>|t|</th>  <th>[0.025</th>    <th>0.975]</th>  \n",
       "</tr>\n",
       "<tr>\n",
       "  <th>Intercept</th> <td>    2.7769</td> <td>    0.080</td> <td>   34.794</td> <td> 0.000</td> <td>    2.620</td> <td>    2.933</td>\n",
       "</tr>\n",
       "<tr>\n",
       "  <th>x3</th>        <td>    0.8630</td> <td>    0.019</td> <td>   45.260</td> <td> 0.000</td> <td>    0.826</td> <td>    0.900</td>\n",
       "</tr>\n",
       "</table>"
      ],
      "text/plain": [
       "<class 'statsmodels.iolib.table.SimpleTable'>"
      ]
     },
     "execution_count": 79,
     "metadata": {},
     "output_type": "execute_result"
    }
   ],
   "source": [
    "model = smf.ols('Y ~ x3', data=data).fit()\n",
    "model.summary().tables[1]"
   ]
  },
  {
   "cell_type": "code",
   "execution_count": 117,
   "id": "c1d7a96e",
   "metadata": {},
   "outputs": [
    {
     "data": {
      "text/html": [
       "<table class=\"simpletable\">\n",
       "<tr>\n",
       "      <td></td>         <th>coef</th>     <th>std err</th>      <th>t</th>      <th>P>|t|</th>  <th>[0.025</th>    <th>0.975]</th>  \n",
       "</tr>\n",
       "<tr>\n",
       "  <th>Intercept</th> <td>    5.8624</td> <td>    0.266</td> <td>   22.034</td> <td> 0.000</td> <td>    5.340</td> <td>    6.385</td>\n",
       "</tr>\n",
       "<tr>\n",
       "  <th>X1</th>        <td>    0.5068</td> <td>    0.065</td> <td>    7.752</td> <td> 0.000</td> <td>    0.379</td> <td>    0.635</td>\n",
       "</tr>\n",
       "<tr>\n",
       "  <th>X2</th>        <td>   -3.9006</td> <td>    0.079</td> <td>  -49.126</td> <td> 0.000</td> <td>   -4.056</td> <td>   -3.745</td>\n",
       "</tr>\n",
       "<tr>\n",
       "  <th>x3</th>        <td>    3.2667</td> <td>    0.009</td> <td>  378.606</td> <td> 0.000</td> <td>    3.250</td> <td>    3.284</td>\n",
       "</tr>\n",
       "</table>"
      ],
      "text/plain": [
       "<class 'statsmodels.iolib.table.SimpleTable'>"
      ]
     },
     "execution_count": 117,
     "metadata": {},
     "output_type": "execute_result"
    }
   ],
   "source": [
    "model_2 = smf.ols('Y ~ X1 + X2 + x3', data=data).fit()\n",
    "model_2.summary().tables[1]"
   ]
  },
  {
   "cell_type": "code",
   "execution_count": null,
   "id": "8b60fcfa",
   "metadata": {},
   "outputs": [],
   "source": []
  },
  {
   "cell_type": "code",
   "execution_count": null,
   "id": "497367dc",
   "metadata": {},
   "outputs": [],
   "source": []
  },
  {
   "cell_type": "code",
   "execution_count": null,
   "id": "955bb4a3",
   "metadata": {},
   "outputs": [],
   "source": []
  },
  {
   "cell_type": "code",
   "execution_count": null,
   "id": "3b79072f",
   "metadata": {},
   "outputs": [],
   "source": []
  },
  {
   "cell_type": "code",
   "execution_count": null,
   "id": "5f083c1e",
   "metadata": {},
   "outputs": [],
   "source": []
  },
  {
   "cell_type": "code",
   "execution_count": null,
   "id": "98655777",
   "metadata": {},
   "outputs": [],
   "source": []
  },
  {
   "cell_type": "code",
   "execution_count": null,
   "id": "235fa233",
   "metadata": {},
   "outputs": [],
   "source": []
  },
  {
   "cell_type": "code",
   "execution_count": null,
   "id": "b1507f7d",
   "metadata": {},
   "outputs": [],
   "source": []
  },
  {
   "cell_type": "code",
   "execution_count": null,
   "id": "7f6bba7f",
   "metadata": {},
   "outputs": [],
   "source": []
  },
  {
   "cell_type": "code",
   "execution_count": null,
   "id": "0904edab",
   "metadata": {},
   "outputs": [],
   "source": []
  },
  {
   "cell_type": "code",
   "execution_count": 118,
   "id": "31010408",
   "metadata": {},
   "outputs": [],
   "source": [
    "###RSME\n",
    "\n"
   ]
  },
  {
   "cell_type": "code",
   "execution_count": null,
   "id": "5f9494bc",
   "metadata": {},
   "outputs": [],
   "source": []
  },
  {
   "cell_type": "code",
   "execution_count": 85,
   "id": "d5de7ad9",
   "metadata": {},
   "outputs": [
    {
     "data": {
      "image/svg+xml": [
       "<?xml version=\"1.0\" encoding=\"UTF-8\" standalone=\"no\"?>\n",
       "<!DOCTYPE svg PUBLIC \"-//W3C//DTD SVG 1.1//EN\"\n",
       " \"http://www.w3.org/Graphics/SVG/1.1/DTD/svg11.dtd\">\n",
       "<!-- Generated by graphviz version 2.48.0 (0)\n",
       " -->\n",
       "<!-- Pages: 1 -->\n",
       "<svg width=\"422pt\" height=\"116pt\"\n",
       " viewBox=\"0.00 0.00 422.09 116.00\" xmlns=\"http://www.w3.org/2000/svg\" xmlns:xlink=\"http://www.w3.org/1999/xlink\">\n",
       "<g id=\"graph0\" class=\"graph\" transform=\"scale(1 1) rotate(0) translate(4 112)\">\n",
       "<polygon fill=\"white\" stroke=\"transparent\" points=\"-4,4 -4,-112 418.09,-112 418.09,4 -4,4\"/>\n",
       "<!-- Covariates_x3 -->\n",
       "<g id=\"node1\" class=\"node\">\n",
       "<title>Covariates_x3</title>\n",
       "<ellipse fill=\"none\" stroke=\"gold\" cx=\"63.04\" cy=\"-90\" rx=\"63.09\" ry=\"18\"/>\n",
       "<text text-anchor=\"middle\" x=\"63.04\" y=\"-86.3\" font-family=\"Times,serif\" font-size=\"14.00\">Covariates_x3</text>\n",
       "</g>\n",
       "<!-- X1 -->\n",
       "<g id=\"node2\" class=\"node\">\n",
       "<title>X1</title>\n",
       "<ellipse fill=\"none\" stroke=\"black\" cx=\"171.04\" cy=\"-90\" rx=\"27\" ry=\"18\"/>\n",
       "<text text-anchor=\"middle\" x=\"171.04\" y=\"-86.3\" font-family=\"Times,serif\" font-size=\"14.00\">X1</text>\n",
       "</g>\n",
       "<!-- Y -->\n",
       "<g id=\"node3\" class=\"node\">\n",
       "<title>Y</title>\n",
       "<ellipse fill=\"none\" stroke=\"black\" cx=\"243.04\" cy=\"-18\" rx=\"27\" ry=\"18\"/>\n",
       "<text text-anchor=\"middle\" x=\"243.04\" y=\"-14.3\" font-family=\"Times,serif\" font-size=\"14.00\">Y</text>\n",
       "</g>\n",
       "<!-- X1&#45;&gt;Y -->\n",
       "<g id=\"edge1\" class=\"edge\">\n",
       "<title>X1&#45;&gt;Y</title>\n",
       "<path fill=\"none\" stroke=\"black\" d=\"M185.61,-74.83C195.79,-64.94 209.57,-51.55 221.08,-40.36\"/>\n",
       "<polygon fill=\"black\" stroke=\"black\" points=\"223.52,-42.87 228.25,-33.38 218.64,-37.85 223.52,-42.87\"/>\n",
       "</g>\n",
       "<!-- X2 -->\n",
       "<g id=\"node4\" class=\"node\">\n",
       "<title>X2</title>\n",
       "<ellipse fill=\"none\" stroke=\"black\" cx=\"243.04\" cy=\"-90\" rx=\"27\" ry=\"18\"/>\n",
       "<text text-anchor=\"middle\" x=\"243.04\" y=\"-86.3\" font-family=\"Times,serif\" font-size=\"14.00\">X2</text>\n",
       "</g>\n",
       "<!-- X2&#45;&gt;Y -->\n",
       "<g id=\"edge2\" class=\"edge\">\n",
       "<title>X2&#45;&gt;Y</title>\n",
       "<path fill=\"none\" stroke=\"black\" d=\"M243.04,-71.7C243.04,-63.98 243.04,-54.71 243.04,-46.11\"/>\n",
       "<polygon fill=\"black\" stroke=\"black\" points=\"246.54,-46.1 243.04,-36.1 239.54,-46.1 246.54,-46.1\"/>\n",
       "</g>\n",
       "<!-- Covaraites_x3 -->\n",
       "<g id=\"node5\" class=\"node\">\n",
       "<title>Covaraites_x3</title>\n",
       "<ellipse fill=\"none\" stroke=\"gold\" cx=\"351.04\" cy=\"-90\" rx=\"63.09\" ry=\"18\"/>\n",
       "<text text-anchor=\"middle\" x=\"351.04\" y=\"-86.3\" font-family=\"Times,serif\" font-size=\"14.00\">Covaraites_x3</text>\n",
       "</g>\n",
       "<!-- Covaraites_x3&#45;&gt;Y -->\n",
       "<g id=\"edge3\" class=\"edge\">\n",
       "<title>Covaraites_x3&#45;&gt;Y</title>\n",
       "<path fill=\"none\" stroke=\"black\" d=\"M326.81,-73.29C310.07,-62.44 287.79,-48 270.41,-36.74\"/>\n",
       "<polygon fill=\"black\" stroke=\"black\" points=\"272.13,-33.68 261.83,-31.18 268.32,-39.55 272.13,-33.68\"/>\n",
       "</g>\n",
       "</g>\n",
       "</svg>\n"
      ],
      "text/plain": [
       "<graphviz.graphs.Digraph at 0x7f8b70487e20>"
      ]
     },
     "execution_count": 85,
     "metadata": {},
     "output_type": "execute_result"
    }
   ],
   "source": [
    "g = gr.Digraph()\n",
    "g.node(\"Covariates_x3\", color=\"gold\")\n",
    "g.edge(\"X1\", \"Y\"),g.edge(\"X2\", \"Y\"),g.edge(\"Covaraites_x3\", \"Y\")\n",
    "g.node(\"Covaraites_x3\", color=\"gold\")\n",
    "\n",
    "\n",
    "g"
   ]
  },
  {
   "cell_type": "markdown",
   "id": "401a80e0",
   "metadata": {},
   "source": [
    "Question 1 For real life example:\n",
    "Y is \n",
    "Covaraites is t\n",
    "X1 is \n",
    "X2 is "
   ]
  },
  {
   "cell_type": "markdown",
   "id": "858692d3",
   "metadata": {},
   "source": [
    "Question 2 For real life example:\n",
    "Y is the salary for people, Covaraites is the Intelligence for people.\n",
    "X1 is Education level of people.\n",
    "X2 is the dummy varaibel if people like their work or not.\n",
    "\n",
    "x3 is the covariates affects the results of Y."
   ]
  },
  {
   "cell_type": "markdown",
   "id": "ddd870ef",
   "metadata": {},
   "source": [
    "Question 2: Confounder\n",
    "\n",
    "\n",
    "[Confounder both have effects to Y and X]\n",
    "\n",
    "#Y = alpha + beta * X +e\n",
    "\n",
    "a. fail to control Confounder \n",
    "\n",
    "$Y = a0 + b0 * X1+c0*X2+u$\n",
    "\n",
    "\n",
    "x2 is Dummy varaible\n",
    "\n",
    "\n",
    "b.controlled the Covariates \n",
    "\n",
    "$Y = a0 + b0 * X +c0*X2+ d0 * Covariates+u$\n",
    "    \n",
    "    "
   ]
  },
  {
   "cell_type": "code",
   "execution_count": 91,
   "id": "2ff28601",
   "metadata": {},
   "outputs": [],
   "source": [
    "import warnings\n",
    "warnings.filterwarnings('ignore')\n",
    "\n",
    "import pandas as pd\n",
    "import numpy as np\n",
    "from scipy import stats\n",
    "from matplotlib import style\n",
    "import seaborn as sns\n",
    "from matplotlib import pyplot as plt\n",
    "import statsmodels.formula.api as smf\n",
    "import graphviz as gr\n",
    "\n",
    "style.use(\"fivethirtyeight\")\n",
    "\n",
    "##n=100, without controlled confounder\n",
    "\n",
    "np.random.seed(24)\n",
    "n = 100\n",
    "\n",
    "X1 = np.random.normal(4,0.5,n)\n",
    "X2 = np.random.binomial(1, 0.23, n)\n",
    "\n",
    "Y = np.random.normal (6 + 0.56 * X1- 4 *X2).astype(int)\n",
    "\n",
    "data = pd.DataFrame(dict(Y=Y,\n",
    "                         X1=X1,\n",
    "                         X2=X2))\n",
    "\n",
    "data.to_csv(\"Con100.csv\")"
   ]
  },
  {
   "cell_type": "code",
   "execution_count": 93,
   "id": "5751b668",
   "metadata": {},
   "outputs": [],
   "source": [
    "\n",
    "##n=1000, without controlled confounder\n",
    "\n",
    "np.random.seed(24)\n",
    "n = 1000\n",
    "\n",
    "X1 = np.random.normal(4,0.5,n)\n",
    "X2 = np.random.binomial(1, 0.23, n)\n",
    "\n",
    "Y = np.random.normal (6 + 0.56 * X1- 4 *X2).astype(int)\n",
    "\n",
    "data = pd.DataFrame(dict(Y=Y,\n",
    "                         X1=X1,\n",
    "                         X2=X2))\n",
    "\n",
    "data.to_csv(\"Con1000.csv\")"
   ]
  },
  {
   "cell_type": "code",
   "execution_count": null,
   "id": "b96de382",
   "metadata": {},
   "outputs": [],
   "source": []
  },
  {
   "cell_type": "code",
   "execution_count": 97,
   "id": "4b19fa7e",
   "metadata": {},
   "outputs": [],
   "source": [
    "##n=100, controlled confounder\n",
    "\n",
    "np.random.seed(24)\n",
    "n = 100\n",
    "\n",
    "X1 = np.random.normal(4,0.5,n)\n",
    "X2 = np.random.binomial(1, 0.23, n)\n",
    "x3 = np.random.normal (3, 4, n)\n",
    "###x3 is the confoudner\n",
    "\n",
    "Y = np.random.normal (6 + 0.56 * X1- 4 *X2+3.3* x3).astype(int)\n",
    "\n",
    "data = pd.DataFrame(dict(Y=Y,\n",
    "                         X1=X1,\n",
    "                         X2=X2,\n",
    "                         x3=x3))\n",
    "\n",
    "data.to_csv(\"Con100controlled.csv\")"
   ]
  },
  {
   "cell_type": "code",
   "execution_count": 98,
   "id": "e68b209c",
   "metadata": {},
   "outputs": [],
   "source": [
    "##n=1000, controlled confounder\n",
    "\n",
    "np.random.seed(24)\n",
    "n = 1000\n",
    "\n",
    "X1 = np.random.normal(4,0.5,n)\n",
    "X2 = np.random.binomial(1, 0.23, n)\n",
    "x3 = np.random.normal (3, 4, n)\n",
    "###x3 is the confoudner\n",
    "\n",
    "Y = np.random.normal (6 + 0.56 * X1- 4 *X2+3.3 * x3).astype(int)\n",
    "\n",
    "data = pd.DataFrame(dict(Y=Y,\n",
    "                         X1=X1,\n",
    "                         X2=X2,\n",
    "                         x3=x3))\n",
    "\n",
    "data.to_csv(\"Con1000controlled.csv\")"
   ]
  },
  {
   "cell_type": "code",
   "execution_count": 99,
   "id": "2491057e",
   "metadata": {},
   "outputs": [
    {
     "data": {
      "text/html": [
       "<div>\n",
       "<style scoped>\n",
       "    .dataframe tbody tr th:only-of-type {\n",
       "        vertical-align: middle;\n",
       "    }\n",
       "\n",
       "    .dataframe tbody tr th {\n",
       "        vertical-align: top;\n",
       "    }\n",
       "\n",
       "    .dataframe thead th {\n",
       "        text-align: right;\n",
       "    }\n",
       "</style>\n",
       "<table border=\"1\" class=\"dataframe\">\n",
       "  <thead>\n",
       "    <tr style=\"text-align: right;\">\n",
       "      <th></th>\n",
       "      <th>Unnamed: 0</th>\n",
       "      <th>Y</th>\n",
       "      <th>X1</th>\n",
       "      <th>X2</th>\n",
       "    </tr>\n",
       "  </thead>\n",
       "  <tbody>\n",
       "    <tr>\n",
       "      <th>0</th>\n",
       "      <td>0</td>\n",
       "      <td>10</td>\n",
       "      <td>4.664606</td>\n",
       "      <td>0</td>\n",
       "    </tr>\n",
       "    <tr>\n",
       "      <th>1</th>\n",
       "      <td>1</td>\n",
       "      <td>8</td>\n",
       "      <td>3.614983</td>\n",
       "      <td>0</td>\n",
       "    </tr>\n",
       "    <tr>\n",
       "      <th>2</th>\n",
       "      <td>2</td>\n",
       "      <td>5</td>\n",
       "      <td>3.841860</td>\n",
       "      <td>1</td>\n",
       "    </tr>\n",
       "    <tr>\n",
       "      <th>3</th>\n",
       "      <td>3</td>\n",
       "      <td>8</td>\n",
       "      <td>3.504595</td>\n",
       "      <td>0</td>\n",
       "    </tr>\n",
       "    <tr>\n",
       "      <th>4</th>\n",
       "      <td>4</td>\n",
       "      <td>7</td>\n",
       "      <td>3.464592</td>\n",
       "      <td>0</td>\n",
       "    </tr>\n",
       "  </tbody>\n",
       "</table>\n",
       "</div>"
      ],
      "text/plain": [
       "   Unnamed: 0   Y        X1  X2\n",
       "0           0  10  4.664606   0\n",
       "1           1   8  3.614983   0\n",
       "2           2   5  3.841860   1\n",
       "3           3   8  3.504595   0\n",
       "4           4   7  3.464592   0"
      ]
     },
     "execution_count": 99,
     "metadata": {},
     "output_type": "execute_result"
    }
   ],
   "source": [
    "data = pd.read_csv(\"/Users/cwwa/Desktop/ECON 570/A2/Con100.csv\")\n",
    "data.head()"
   ]
  },
  {
   "cell_type": "code",
   "execution_count": 120,
   "id": "c0de673a",
   "metadata": {},
   "outputs": [
    {
     "data": {
      "text/html": [
       "<table class=\"simpletable\">\n",
       "<tr>\n",
       "      <td></td>         <th>coef</th>     <th>std err</th>      <th>t</th>      <th>P>|t|</th>  <th>[0.025</th>    <th>0.975]</th>  \n",
       "</tr>\n",
       "<tr>\n",
       "  <th>Intercept</th> <td>   17.4291</td> <td>    0.452</td> <td>   38.587</td> <td> 0.000</td> <td>   16.543</td> <td>   18.315</td>\n",
       "</tr>\n",
       "<tr>\n",
       "  <th>X2</th>        <td>   -3.6122</td> <td>    0.954</td> <td>   -3.785</td> <td> 0.000</td> <td>   -5.485</td> <td>   -1.739</td>\n",
       "</tr>\n",
       "</table>"
      ],
      "text/plain": [
       "<class 'statsmodels.iolib.table.SimpleTable'>"
      ]
     },
     "execution_count": 120,
     "metadata": {},
     "output_type": "execute_result"
    }
   ],
   "source": [
    "model = smf.ols('Y ~ X2', data=data).fit()\n",
    "model.summary().tables[1]"
   ]
  },
  {
   "cell_type": "code",
   "execution_count": 121,
   "id": "e10e535b",
   "metadata": {},
   "outputs": [
    {
     "data": {
      "text/html": [
       "<table class=\"simpletable\">\n",
       "<tr>\n",
       "      <td></td>         <th>coef</th>     <th>std err</th>      <th>t</th>      <th>P>|t|</th>  <th>[0.025</th>    <th>0.975]</th>  \n",
       "</tr>\n",
       "<tr>\n",
       "  <th>Intercept</th> <td>   18.7174</td> <td>    3.175</td> <td>    5.895</td> <td> 0.000</td> <td>   12.487</td> <td>   24.948</td>\n",
       "</tr>\n",
       "<tr>\n",
       "  <th>X1</th>        <td>   -0.3223</td> <td>    0.786</td> <td>   -0.410</td> <td> 0.682</td> <td>   -1.865</td> <td>    1.221</td>\n",
       "</tr>\n",
       "<tr>\n",
       "  <th>X2</th>        <td>   -3.5987</td> <td>    0.955</td> <td>   -3.767</td> <td> 0.000</td> <td>   -5.473</td> <td>   -1.724</td>\n",
       "</tr>\n",
       "</table>"
      ],
      "text/plain": [
       "<class 'statsmodels.iolib.table.SimpleTable'>"
      ]
     },
     "execution_count": 121,
     "metadata": {},
     "output_type": "execute_result"
    }
   ],
   "source": [
    "model_2 = smf.ols('Y ~ X1 + X2 ', data=data).fit()\n",
    "model_2.summary().tables[1]"
   ]
  },
  {
   "cell_type": "code",
   "execution_count": null,
   "id": "b1694f74",
   "metadata": {},
   "outputs": [],
   "source": []
  },
  {
   "cell_type": "code",
   "execution_count": 101,
   "id": "d69be6a5",
   "metadata": {},
   "outputs": [
    {
     "data": {
      "text/html": [
       "<div>\n",
       "<style scoped>\n",
       "    .dataframe tbody tr th:only-of-type {\n",
       "        vertical-align: middle;\n",
       "    }\n",
       "\n",
       "    .dataframe tbody tr th {\n",
       "        vertical-align: top;\n",
       "    }\n",
       "\n",
       "    .dataframe thead th {\n",
       "        text-align: right;\n",
       "    }\n",
       "</style>\n",
       "<table border=\"1\" class=\"dataframe\">\n",
       "  <thead>\n",
       "    <tr style=\"text-align: right;\">\n",
       "      <th></th>\n",
       "      <th>Unnamed: 0</th>\n",
       "      <th>Y</th>\n",
       "      <th>X1</th>\n",
       "      <th>X2</th>\n",
       "    </tr>\n",
       "  </thead>\n",
       "  <tbody>\n",
       "    <tr>\n",
       "      <th>0</th>\n",
       "      <td>0</td>\n",
       "      <td>7</td>\n",
       "      <td>4.664606</td>\n",
       "      <td>0</td>\n",
       "    </tr>\n",
       "    <tr>\n",
       "      <th>1</th>\n",
       "      <td>1</td>\n",
       "      <td>9</td>\n",
       "      <td>3.614983</td>\n",
       "      <td>0</td>\n",
       "    </tr>\n",
       "    <tr>\n",
       "      <th>2</th>\n",
       "      <td>2</td>\n",
       "      <td>7</td>\n",
       "      <td>3.841860</td>\n",
       "      <td>0</td>\n",
       "    </tr>\n",
       "    <tr>\n",
       "      <th>3</th>\n",
       "      <td>3</td>\n",
       "      <td>7</td>\n",
       "      <td>3.504595</td>\n",
       "      <td>0</td>\n",
       "    </tr>\n",
       "    <tr>\n",
       "      <th>4</th>\n",
       "      <td>4</td>\n",
       "      <td>8</td>\n",
       "      <td>3.464592</td>\n",
       "      <td>0</td>\n",
       "    </tr>\n",
       "  </tbody>\n",
       "</table>\n",
       "</div>"
      ],
      "text/plain": [
       "   Unnamed: 0  Y        X1  X2\n",
       "0           0  7  4.664606   0\n",
       "1           1  9  3.614983   0\n",
       "2           2  7  3.841860   0\n",
       "3           3  7  3.504595   0\n",
       "4           4  8  3.464592   0"
      ]
     },
     "execution_count": 101,
     "metadata": {},
     "output_type": "execute_result"
    }
   ],
   "source": [
    "data = pd.read_csv(\"/Users/cwwa/Desktop/ECON 570/A2/Con1000.csv\")\n",
    "data.head()"
   ]
  },
  {
   "cell_type": "code",
   "execution_count": 122,
   "id": "6ba9230c",
   "metadata": {},
   "outputs": [
    {
     "data": {
      "text/html": [
       "<table class=\"simpletable\">\n",
       "<tr>\n",
       "      <td></td>         <th>coef</th>     <th>std err</th>      <th>t</th>      <th>P>|t|</th>  <th>[0.025</th>    <th>0.975]</th>  \n",
       "</tr>\n",
       "<tr>\n",
       "  <th>Intercept</th> <td>   17.4291</td> <td>    0.452</td> <td>   38.587</td> <td> 0.000</td> <td>   16.543</td> <td>   18.315</td>\n",
       "</tr>\n",
       "<tr>\n",
       "  <th>X2</th>        <td>   -3.6122</td> <td>    0.954</td> <td>   -3.785</td> <td> 0.000</td> <td>   -5.485</td> <td>   -1.739</td>\n",
       "</tr>\n",
       "</table>"
      ],
      "text/plain": [
       "<class 'statsmodels.iolib.table.SimpleTable'>"
      ]
     },
     "execution_count": 122,
     "metadata": {},
     "output_type": "execute_result"
    }
   ],
   "source": [
    "model = smf.ols('Y ~ X2', data=data).fit()\n",
    "model.summary().tables[1]"
   ]
  },
  {
   "cell_type": "code",
   "execution_count": 124,
   "id": "e0025265",
   "metadata": {},
   "outputs": [
    {
     "data": {
      "text/html": [
       "<table class=\"simpletable\">\n",
       "<tr>\n",
       "      <td></td>         <th>coef</th>     <th>std err</th>      <th>t</th>      <th>P>|t|</th>  <th>[0.025</th>    <th>0.975]</th>  \n",
       "</tr>\n",
       "<tr>\n",
       "  <th>Intercept</th> <td>   18.7174</td> <td>    3.175</td> <td>    5.895</td> <td> 0.000</td> <td>   12.487</td> <td>   24.948</td>\n",
       "</tr>\n",
       "<tr>\n",
       "  <th>X1</th>        <td>   -0.3223</td> <td>    0.786</td> <td>   -0.410</td> <td> 0.682</td> <td>   -1.865</td> <td>    1.221</td>\n",
       "</tr>\n",
       "<tr>\n",
       "  <th>X2</th>        <td>   -3.5987</td> <td>    0.955</td> <td>   -3.767</td> <td> 0.000</td> <td>   -5.473</td> <td>   -1.724</td>\n",
       "</tr>\n",
       "</table>"
      ],
      "text/plain": [
       "<class 'statsmodels.iolib.table.SimpleTable'>"
      ]
     },
     "execution_count": 124,
     "metadata": {},
     "output_type": "execute_result"
    }
   ],
   "source": [
    "model_2 = smf.ols('Y ~ X1 + X2 ', data=data).fit()\n",
    "model_2.summary().tables[1]"
   ]
  },
  {
   "cell_type": "code",
   "execution_count": null,
   "id": "e03fdd0e",
   "metadata": {},
   "outputs": [],
   "source": []
  },
  {
   "cell_type": "code",
   "execution_count": null,
   "id": "6d770c02",
   "metadata": {},
   "outputs": [],
   "source": []
  },
  {
   "cell_type": "code",
   "execution_count": 103,
   "id": "8704c282",
   "metadata": {},
   "outputs": [
    {
     "data": {
      "text/html": [
       "<div>\n",
       "<style scoped>\n",
       "    .dataframe tbody tr th:only-of-type {\n",
       "        vertical-align: middle;\n",
       "    }\n",
       "\n",
       "    .dataframe tbody tr th {\n",
       "        vertical-align: top;\n",
       "    }\n",
       "\n",
       "    .dataframe thead th {\n",
       "        text-align: right;\n",
       "    }\n",
       "</style>\n",
       "<table border=\"1\" class=\"dataframe\">\n",
       "  <thead>\n",
       "    <tr style=\"text-align: right;\">\n",
       "      <th></th>\n",
       "      <th>Unnamed: 0</th>\n",
       "      <th>Y</th>\n",
       "      <th>X1</th>\n",
       "      <th>X2</th>\n",
       "      <th>x3</th>\n",
       "    </tr>\n",
       "  </thead>\n",
       "  <tbody>\n",
       "    <tr>\n",
       "      <th>0</th>\n",
       "      <td>0</td>\n",
       "      <td>37</td>\n",
       "      <td>4.664606</td>\n",
       "      <td>0</td>\n",
       "      <td>8.680289</td>\n",
       "    </tr>\n",
       "    <tr>\n",
       "      <th>1</th>\n",
       "      <td>1</td>\n",
       "      <td>25</td>\n",
       "      <td>3.614983</td>\n",
       "      <td>0</td>\n",
       "      <td>5.254420</td>\n",
       "    </tr>\n",
       "    <tr>\n",
       "      <th>2</th>\n",
       "      <td>2</td>\n",
       "      <td>31</td>\n",
       "      <td>3.841860</td>\n",
       "      <td>1</td>\n",
       "      <td>7.912982</td>\n",
       "    </tr>\n",
       "    <tr>\n",
       "      <th>3</th>\n",
       "      <td>3</td>\n",
       "      <td>23</td>\n",
       "      <td>3.504595</td>\n",
       "      <td>0</td>\n",
       "      <td>4.934774</td>\n",
       "    </tr>\n",
       "    <tr>\n",
       "      <th>4</th>\n",
       "      <td>4</td>\n",
       "      <td>17</td>\n",
       "      <td>3.464592</td>\n",
       "      <td>0</td>\n",
       "      <td>3.129636</td>\n",
       "    </tr>\n",
       "  </tbody>\n",
       "</table>\n",
       "</div>"
      ],
      "text/plain": [
       "   Unnamed: 0   Y        X1  X2        x3\n",
       "0           0  37  4.664606   0  8.680289\n",
       "1           1  25  3.614983   0  5.254420\n",
       "2           2  31  3.841860   1  7.912982\n",
       "3           3  23  3.504595   0  4.934774\n",
       "4           4  17  3.464592   0  3.129636"
      ]
     },
     "execution_count": 103,
     "metadata": {},
     "output_type": "execute_result"
    }
   ],
   "source": [
    "data = pd.read_csv(\"/Users/cwwa/Desktop/ECON 570/A2/Con100controlled.csv\")\n",
    "data.head()"
   ]
  },
  {
   "cell_type": "code",
   "execution_count": 125,
   "id": "fcd84b93",
   "metadata": {},
   "outputs": [
    {
     "data": {
      "text/html": [
       "<table class=\"simpletable\">\n",
       "<tr>\n",
       "      <td></td>         <th>coef</th>     <th>std err</th>      <th>t</th>      <th>P>|t|</th>  <th>[0.025</th>    <th>0.975]</th>  \n",
       "</tr>\n",
       "<tr>\n",
       "  <th>Intercept</th> <td>    7.0369</td> <td>    0.077</td> <td>   90.871</td> <td> 0.000</td> <td>    6.885</td> <td>    7.189</td>\n",
       "</tr>\n",
       "<tr>\n",
       "  <th>x3</th>        <td>    3.2608</td> <td>    0.016</td> <td>  203.496</td> <td> 0.000</td> <td>    3.229</td> <td>    3.292</td>\n",
       "</tr>\n",
       "</table>"
      ],
      "text/plain": [
       "<class 'statsmodels.iolib.table.SimpleTable'>"
      ]
     },
     "execution_count": 125,
     "metadata": {},
     "output_type": "execute_result"
    }
   ],
   "source": [
    "model = smf.ols('Y ~ x3', data=data).fit()\n",
    "model.summary().tables[1]"
   ]
  },
  {
   "cell_type": "code",
   "execution_count": 126,
   "id": "59072c35",
   "metadata": {},
   "outputs": [
    {
     "data": {
      "text/html": [
       "<table class=\"simpletable\">\n",
       "<tr>\n",
       "      <td></td>         <th>coef</th>     <th>std err</th>      <th>t</th>      <th>P>|t|</th>  <th>[0.025</th>    <th>0.975]</th>  \n",
       "</tr>\n",
       "<tr>\n",
       "  <th>Intercept</th> <td>    5.8624</td> <td>    0.266</td> <td>   22.034</td> <td> 0.000</td> <td>    5.340</td> <td>    6.385</td>\n",
       "</tr>\n",
       "<tr>\n",
       "  <th>X1</th>        <td>    0.5068</td> <td>    0.065</td> <td>    7.752</td> <td> 0.000</td> <td>    0.379</td> <td>    0.635</td>\n",
       "</tr>\n",
       "<tr>\n",
       "  <th>X2</th>        <td>   -3.9006</td> <td>    0.079</td> <td>  -49.126</td> <td> 0.000</td> <td>   -4.056</td> <td>   -3.745</td>\n",
       "</tr>\n",
       "<tr>\n",
       "  <th>x3</th>        <td>    3.2667</td> <td>    0.009</td> <td>  378.606</td> <td> 0.000</td> <td>    3.250</td> <td>    3.284</td>\n",
       "</tr>\n",
       "</table>"
      ],
      "text/plain": [
       "<class 'statsmodels.iolib.table.SimpleTable'>"
      ]
     },
     "execution_count": 126,
     "metadata": {},
     "output_type": "execute_result"
    }
   ],
   "source": [
    "model_2 = smf.ols('Y ~ X1 + X2 + x3', data=data).fit()\n",
    "model_2.summary().tables[1]"
   ]
  },
  {
   "cell_type": "code",
   "execution_count": 105,
   "id": "6c62c370",
   "metadata": {},
   "outputs": [
    {
     "data": {
      "text/html": [
       "<div>\n",
       "<style scoped>\n",
       "    .dataframe tbody tr th:only-of-type {\n",
       "        vertical-align: middle;\n",
       "    }\n",
       "\n",
       "    .dataframe tbody tr th {\n",
       "        vertical-align: top;\n",
       "    }\n",
       "\n",
       "    .dataframe thead th {\n",
       "        text-align: right;\n",
       "    }\n",
       "</style>\n",
       "<table border=\"1\" class=\"dataframe\">\n",
       "  <thead>\n",
       "    <tr style=\"text-align: right;\">\n",
       "      <th></th>\n",
       "      <th>Unnamed: 0</th>\n",
       "      <th>Y</th>\n",
       "      <th>X1</th>\n",
       "      <th>X2</th>\n",
       "      <th>x3</th>\n",
       "    </tr>\n",
       "  </thead>\n",
       "  <tbody>\n",
       "    <tr>\n",
       "      <th>0</th>\n",
       "      <td>0</td>\n",
       "      <td>-1</td>\n",
       "      <td>4.664606</td>\n",
       "      <td>0</td>\n",
       "      <td>-2.390197</td>\n",
       "    </tr>\n",
       "    <tr>\n",
       "      <th>1</th>\n",
       "      <td>1</td>\n",
       "      <td>40</td>\n",
       "      <td>3.614983</td>\n",
       "      <td>0</td>\n",
       "      <td>9.848224</td>\n",
       "    </tr>\n",
       "    <tr>\n",
       "      <th>2</th>\n",
       "      <td>2</td>\n",
       "      <td>7</td>\n",
       "      <td>3.841860</td>\n",
       "      <td>0</td>\n",
       "      <td>0.037156</td>\n",
       "    </tr>\n",
       "    <tr>\n",
       "      <th>3</th>\n",
       "      <td>3</td>\n",
       "      <td>13</td>\n",
       "      <td>3.504595</td>\n",
       "      <td>0</td>\n",
       "      <td>1.999726</td>\n",
       "    </tr>\n",
       "    <tr>\n",
       "      <th>4</th>\n",
       "      <td>4</td>\n",
       "      <td>20</td>\n",
       "      <td>3.464592</td>\n",
       "      <td>0</td>\n",
       "      <td>4.073230</td>\n",
       "    </tr>\n",
       "  </tbody>\n",
       "</table>\n",
       "</div>"
      ],
      "text/plain": [
       "   Unnamed: 0   Y        X1  X2        x3\n",
       "0           0  -1  4.664606   0 -2.390197\n",
       "1           1  40  3.614983   0  9.848224\n",
       "2           2   7  3.841860   0  0.037156\n",
       "3           3  13  3.504595   0  1.999726\n",
       "4           4  20  3.464592   0  4.073230"
      ]
     },
     "execution_count": 105,
     "metadata": {},
     "output_type": "execute_result"
    }
   ],
   "source": [
    "data = pd.read_csv(\"/Users/cwwa/Desktop/ECON 570/A2/Con1000controlled.csv\")\n",
    "data.head()"
   ]
  },
  {
   "cell_type": "code",
   "execution_count": 106,
   "id": "ba963d96",
   "metadata": {},
   "outputs": [
    {
     "data": {
      "text/html": [
       "<table class=\"simpletable\">\n",
       "<tr>\n",
       "      <td></td>         <th>coef</th>     <th>std err</th>      <th>t</th>      <th>P>|t|</th>  <th>[0.025</th>    <th>0.975]</th>  \n",
       "</tr>\n",
       "<tr>\n",
       "  <th>Intercept</th> <td>    7.0369</td> <td>    0.077</td> <td>   90.871</td> <td> 0.000</td> <td>    6.885</td> <td>    7.189</td>\n",
       "</tr>\n",
       "<tr>\n",
       "  <th>x3</th>        <td>    3.2608</td> <td>    0.016</td> <td>  203.496</td> <td> 0.000</td> <td>    3.229</td> <td>    3.292</td>\n",
       "</tr>\n",
       "</table>"
      ],
      "text/plain": [
       "<class 'statsmodels.iolib.table.SimpleTable'>"
      ]
     },
     "execution_count": 106,
     "metadata": {},
     "output_type": "execute_result"
    }
   ],
   "source": [
    "model = smf.ols('Y ~ x3', data=data).fit()\n",
    "model.summary().tables[1]"
   ]
  },
  {
   "cell_type": "code",
   "execution_count": 127,
   "id": "4ef2d6c3",
   "metadata": {},
   "outputs": [
    {
     "data": {
      "text/html": [
       "<table class=\"simpletable\">\n",
       "<tr>\n",
       "      <td></td>         <th>coef</th>     <th>std err</th>      <th>t</th>      <th>P>|t|</th>  <th>[0.025</th>    <th>0.975]</th>  \n",
       "</tr>\n",
       "<tr>\n",
       "  <th>Intercept</th> <td>    5.8624</td> <td>    0.266</td> <td>   22.034</td> <td> 0.000</td> <td>    5.340</td> <td>    6.385</td>\n",
       "</tr>\n",
       "<tr>\n",
       "  <th>X1</th>        <td>    0.5068</td> <td>    0.065</td> <td>    7.752</td> <td> 0.000</td> <td>    0.379</td> <td>    0.635</td>\n",
       "</tr>\n",
       "<tr>\n",
       "  <th>X2</th>        <td>   -3.9006</td> <td>    0.079</td> <td>  -49.126</td> <td> 0.000</td> <td>   -4.056</td> <td>   -3.745</td>\n",
       "</tr>\n",
       "<tr>\n",
       "  <th>x3</th>        <td>    3.2667</td> <td>    0.009</td> <td>  378.606</td> <td> 0.000</td> <td>    3.250</td> <td>    3.284</td>\n",
       "</tr>\n",
       "</table>"
      ],
      "text/plain": [
       "<class 'statsmodels.iolib.table.SimpleTable'>"
      ]
     },
     "execution_count": 127,
     "metadata": {},
     "output_type": "execute_result"
    }
   ],
   "source": [
    "model_2 = smf.ols('Y ~ X1 + X2 + x3', data=data).fit()\n",
    "model_2.summary().tables[1]\n"
   ]
  },
  {
   "cell_type": "code",
   "execution_count": 90,
   "id": "74b87b13",
   "metadata": {},
   "outputs": [
    {
     "data": {
      "image/svg+xml": [
       "<?xml version=\"1.0\" encoding=\"UTF-8\" standalone=\"no\"?>\n",
       "<!DOCTYPE svg PUBLIC \"-//W3C//DTD SVG 1.1//EN\"\n",
       " \"http://www.w3.org/Graphics/SVG/1.1/DTD/svg11.dtd\">\n",
       "<!-- Generated by graphviz version 2.48.0 (0)\n",
       " -->\n",
       "<!-- Pages: 1 -->\n",
       "<svg width=\"302pt\" height=\"188pt\"\n",
       " viewBox=\"0.00 0.00 302.04 188.00\" xmlns=\"http://www.w3.org/2000/svg\" xmlns:xlink=\"http://www.w3.org/1999/xlink\">\n",
       "<g id=\"graph0\" class=\"graph\" transform=\"scale(1 1) rotate(0) translate(4 184)\">\n",
       "<polygon fill=\"white\" stroke=\"transparent\" points=\"-4,4 -4,-184 298.04,-184 298.04,4 -4,4\"/>\n",
       "<!-- Confouder_x3 -->\n",
       "<g id=\"node1\" class=\"node\">\n",
       "<title>Confouder_x3</title>\n",
       "<ellipse fill=\"none\" stroke=\"gold\" cx=\"63.04\" cy=\"-162\" rx=\"63.09\" ry=\"18\"/>\n",
       "<text text-anchor=\"middle\" x=\"63.04\" y=\"-158.3\" font-family=\"Times,serif\" font-size=\"14.00\">Confouder_x3</text>\n",
       "</g>\n",
       "<!-- X1 -->\n",
       "<g id=\"node2\" class=\"node\">\n",
       "<title>X1</title>\n",
       "<ellipse fill=\"none\" stroke=\"black\" cx=\"157.04\" cy=\"-90\" rx=\"27\" ry=\"18\"/>\n",
       "<text text-anchor=\"middle\" x=\"157.04\" y=\"-86.3\" font-family=\"Times,serif\" font-size=\"14.00\">X1</text>\n",
       "</g>\n",
       "<!-- Y -->\n",
       "<g id=\"node3\" class=\"node\">\n",
       "<title>Y</title>\n",
       "<ellipse fill=\"none\" stroke=\"black\" cx=\"212.04\" cy=\"-18\" rx=\"27\" ry=\"18\"/>\n",
       "<text text-anchor=\"middle\" x=\"212.04\" y=\"-14.3\" font-family=\"Times,serif\" font-size=\"14.00\">Y</text>\n",
       "</g>\n",
       "<!-- X1&#45;&gt;Y -->\n",
       "<g id=\"edge1\" class=\"edge\">\n",
       "<title>X1&#45;&gt;Y</title>\n",
       "<path fill=\"none\" stroke=\"black\" d=\"M168.98,-73.81C176.26,-64.55 185.71,-52.52 193.9,-42.09\"/>\n",
       "<polygon fill=\"black\" stroke=\"black\" points=\"196.71,-44.18 200.13,-34.16 191.2,-39.86 196.71,-44.18\"/>\n",
       "</g>\n",
       "<!-- X2 -->\n",
       "<g id=\"node4\" class=\"node\">\n",
       "<title>X2</title>\n",
       "<ellipse fill=\"none\" stroke=\"black\" cx=\"267.04\" cy=\"-90\" rx=\"27\" ry=\"18\"/>\n",
       "<text text-anchor=\"middle\" x=\"267.04\" y=\"-86.3\" font-family=\"Times,serif\" font-size=\"14.00\">X2</text>\n",
       "</g>\n",
       "<!-- X2&#45;&gt;Y -->\n",
       "<g id=\"edge2\" class=\"edge\">\n",
       "<title>X2&#45;&gt;Y</title>\n",
       "<path fill=\"none\" stroke=\"black\" d=\"M255.11,-73.81C247.83,-64.55 238.38,-52.52 230.19,-42.09\"/>\n",
       "<polygon fill=\"black\" stroke=\"black\" points=\"232.89,-39.86 223.96,-34.16 227.38,-44.18 232.89,-39.86\"/>\n",
       "</g>\n",
       "<!-- Confounder_x3 -->\n",
       "<g id=\"node5\" class=\"node\">\n",
       "<title>Confounder_x3</title>\n",
       "<ellipse fill=\"none\" stroke=\"gold\" cx=\"212.04\" cy=\"-162\" rx=\"67.69\" ry=\"18\"/>\n",
       "<text text-anchor=\"middle\" x=\"212.04\" y=\"-158.3\" font-family=\"Times,serif\" font-size=\"14.00\">Confounder_x3</text>\n",
       "</g>\n",
       "<!-- Confounder_x3&#45;&gt;X1 -->\n",
       "<g id=\"edge4\" class=\"edge\">\n",
       "<title>Confounder_x3&#45;&gt;X1</title>\n",
       "<path fill=\"none\" stroke=\"black\" d=\"M198.73,-144.05C191.75,-135.17 183.08,-124.14 175.47,-114.45\"/>\n",
       "<polygon fill=\"black\" stroke=\"black\" points=\"178.04,-112.06 169.11,-106.36 172.54,-116.38 178.04,-112.06\"/>\n",
       "</g>\n",
       "<!-- Confounder_x3&#45;&gt;Y -->\n",
       "<g id=\"edge3\" class=\"edge\">\n",
       "<title>Confounder_x3&#45;&gt;Y</title>\n",
       "<path fill=\"none\" stroke=\"black\" d=\"M212.04,-143.87C212.04,-119.67 212.04,-75.21 212.04,-46.39\"/>\n",
       "<polygon fill=\"black\" stroke=\"black\" points=\"215.54,-46.19 212.04,-36.19 208.54,-46.19 215.54,-46.19\"/>\n",
       "</g>\n",
       "<!-- Confounder_x3&#45;&gt;X2 -->\n",
       "<g id=\"edge5\" class=\"edge\">\n",
       "<title>Confounder_x3&#45;&gt;X2</title>\n",
       "<path fill=\"none\" stroke=\"black\" d=\"M225.36,-144.05C232.34,-135.17 241.01,-124.14 248.62,-114.45\"/>\n",
       "<polygon fill=\"black\" stroke=\"black\" points=\"251.55,-116.38 254.98,-106.36 246.05,-112.06 251.55,-116.38\"/>\n",
       "</g>\n",
       "</g>\n",
       "</svg>\n"
      ],
      "text/plain": [
       "<graphviz.graphs.Digraph at 0x7f8b70436340>"
      ]
     },
     "execution_count": 90,
     "metadata": {},
     "output_type": "execute_result"
    }
   ],
   "source": [
    "g = gr.Digraph()\n",
    "g.node(\"Confouder_x3\", color=\"gold\")\n",
    "g.edge(\"X1\", \"Y\"),g.edge(\"X2\", \"Y\"),g.edge(\"Confounder_x3\", \"Y\"),g.edge(\"Confounder_x3\", \"X1\"),g.edge(\"Confounder_x3\", \"X2\")\n",
    "g.node(\"Confounder_x3\", color=\"gold\")\n",
    "\n",
    "\n",
    "g"
   ]
  },
  {
   "cell_type": "markdown",
   "id": "cb9c3945",
   "metadata": {},
   "source": [
    "Question 2 For real life example:\n",
    "Y is the salary for people, Covaraites is the Intelligence for people.\n",
    "X1 is Education level of people.\n",
    "X2 is the dummy varaibel if people like their work or not.\n"
   ]
  },
  {
   "cell_type": "code",
   "execution_count": null,
   "id": "5080d789",
   "metadata": {},
   "outputs": [],
   "source": []
  },
  {
   "cell_type": "markdown",
   "id": "4703f94e",
   "metadata": {},
   "source": [
    "Question 3 :selection bias\n",
    "    \n",
    "    \n",
    "[Selection bias means X has some bad effects in the casual inference]\n",
    "\n",
    "#Y = alpha + beta * X +e\n",
    "\n",
    "a. fail to control Confounder \n",
    "\n",
    "b.controlled the Covariates \n",
    "\n",
    "\n",
    "    "
   ]
  },
  {
   "cell_type": "code",
   "execution_count": 128,
   "id": "ec607148",
   "metadata": {},
   "outputs": [],
   "source": [
    "import pandas as pd\n",
    "import numpy as np\n",
    "\n",
    "np.random.seed(24)\n",
    "n = 100\n",
    "email = np.random.binomial(1, 0.5, n)\n",
    "\n",
    "credit_limit = np.random.gamma(6, 200, n)\n",
    "risk_score = np.random.beta(credit_limit, credit_limit.mean(), n)\n",
    "\n",
    "opened = np.random.normal(5 + 0.001*credit_limit - 4*risk_score, 2)\n",
    "opened = (opened > 4).astype(float) * email\n",
    "\n",
    "\n",
    "agreement = np.random.normal(30 +(-0.003*credit_limit - 10*risk_score), 7) * 2 * opened\n",
    "agreement = (agreement > 40).astype(float)\n",
    "\n",
    "payments = (np.random.normal(500 + 0.16*credit_limit - 40*risk_score + 11*agreement + email, 75).astype(int) // 10) * 10\n",
    "\n",
    "data = pd.DataFrame(dict(payments=payments,\n",
    "                         email=email,\n",
    "                         opened=opened,\n",
    "                         agreement=agreement,\n",
    "                         credit_limit=credit_limit,\n",
    "                         risk_score=risk_score))\n",
    "\n",
    "data.to_csv(\"email100.csv\")"
   ]
  },
  {
   "cell_type": "code",
   "execution_count": 129,
   "id": "b4bb0e63",
   "metadata": {},
   "outputs": [],
   "source": [
    "import pandas as pd\n",
    "import numpy as np\n",
    "\n",
    "np.random.seed(24)\n",
    "n = 1000\n",
    "email = np.random.binomial(1, 0.5, n)\n",
    "\n",
    "credit_limit = np.random.gamma(6, 200, n)\n",
    "risk_score = np.random.beta(credit_limit, credit_limit.mean(), n)\n",
    "\n",
    "opened = np.random.normal(5 + 0.001*credit_limit - 4*risk_score, 2)\n",
    "opened = (opened > 4).astype(float) * email\n",
    "\n",
    "\n",
    "agreement = np.random.normal(30 +(-0.003*credit_limit - 10*risk_score), 7) * 2 * opened\n",
    "agreement = (agreement > 40).astype(float)\n",
    "\n",
    "payments = (np.random.normal(500 + 0.16*credit_limit - 40*risk_score + 11*agreement + email, 75).astype(int) // 10) * 10\n",
    "\n",
    "data = pd.DataFrame(dict(payments=payments,\n",
    "                         email=email,\n",
    "                         opened=opened,\n",
    "                         agreement=agreement,\n",
    "                         credit_limit=credit_limit,\n",
    "                         risk_score=risk_score))\n",
    "\n",
    "data.to_csv(\"email1000.csv\")"
   ]
  },
  {
   "cell_type": "code",
   "execution_count": 130,
   "id": "f571d5e5",
   "metadata": {},
   "outputs": [
    {
     "data": {
      "text/html": [
       "<div>\n",
       "<style scoped>\n",
       "    .dataframe tbody tr th:only-of-type {\n",
       "        vertical-align: middle;\n",
       "    }\n",
       "\n",
       "    .dataframe tbody tr th {\n",
       "        vertical-align: top;\n",
       "    }\n",
       "\n",
       "    .dataframe thead th {\n",
       "        text-align: right;\n",
       "    }\n",
       "</style>\n",
       "<table border=\"1\" class=\"dataframe\">\n",
       "  <thead>\n",
       "    <tr style=\"text-align: right;\">\n",
       "      <th></th>\n",
       "      <th>Unnamed: 0</th>\n",
       "      <th>payments</th>\n",
       "      <th>email</th>\n",
       "      <th>opened</th>\n",
       "      <th>agreement</th>\n",
       "      <th>credit_limit</th>\n",
       "      <th>risk_score</th>\n",
       "    </tr>\n",
       "  </thead>\n",
       "  <tbody>\n",
       "    <tr>\n",
       "      <th>0</th>\n",
       "      <td>0</td>\n",
       "      <td>550</td>\n",
       "      <td>1</td>\n",
       "      <td>0.0</td>\n",
       "      <td>0.0</td>\n",
       "      <td>1064.583112</td>\n",
       "      <td>0.465057</td>\n",
       "    </tr>\n",
       "    <tr>\n",
       "      <th>1</th>\n",
       "      <td>1</td>\n",
       "      <td>740</td>\n",
       "      <td>1</td>\n",
       "      <td>1.0</td>\n",
       "      <td>0.0</td>\n",
       "      <td>2051.019743</td>\n",
       "      <td>0.628039</td>\n",
       "    </tr>\n",
       "    <tr>\n",
       "      <th>2</th>\n",
       "      <td>2</td>\n",
       "      <td>520</td>\n",
       "      <td>1</td>\n",
       "      <td>0.0</td>\n",
       "      <td>0.0</td>\n",
       "      <td>773.993923</td>\n",
       "      <td>0.388495</td>\n",
       "    </tr>\n",
       "    <tr>\n",
       "      <th>3</th>\n",
       "      <td>3</td>\n",
       "      <td>930</td>\n",
       "      <td>0</td>\n",
       "      <td>0.0</td>\n",
       "      <td>0.0</td>\n",
       "      <td>2362.617255</td>\n",
       "      <td>0.653442</td>\n",
       "    </tr>\n",
       "    <tr>\n",
       "      <th>4</th>\n",
       "      <td>4</td>\n",
       "      <td>720</td>\n",
       "      <td>0</td>\n",
       "      <td>0.0</td>\n",
       "      <td>0.0</td>\n",
       "      <td>1057.000671</td>\n",
       "      <td>0.473908</td>\n",
       "    </tr>\n",
       "  </tbody>\n",
       "</table>\n",
       "</div>"
      ],
      "text/plain": [
       "   Unnamed: 0  payments  email  opened  agreement  credit_limit  risk_score\n",
       "0           0       550      1     0.0        0.0   1064.583112    0.465057\n",
       "1           1       740      1     1.0        0.0   2051.019743    0.628039\n",
       "2           2       520      1     0.0        0.0    773.993923    0.388495\n",
       "3           3       930      0     0.0        0.0   2362.617255    0.653442\n",
       "4           4       720      0     0.0        0.0   1057.000671    0.473908"
      ]
     },
     "execution_count": 130,
     "metadata": {},
     "output_type": "execute_result"
    }
   ],
   "source": [
    "data = pd.read_csv(\"/Users/cwwa/Desktop/ECON 570/A2/email100.csv\")\n",
    "data.head()"
   ]
  },
  {
   "cell_type": "code",
   "execution_count": 132,
   "id": "a972f4d4",
   "metadata": {},
   "outputs": [
    {
     "data": {
      "text/html": [
       "<table class=\"simpletable\">\n",
       "<tr>\n",
       "        <td></td>          <th>coef</th>     <th>std err</th>      <th>t</th>      <th>P>|t|</th>  <th>[0.025</th>    <th>0.975]</th>  \n",
       "</tr>\n",
       "<tr>\n",
       "  <th>Intercept</th>    <td>  517.9992</td> <td>   21.603</td> <td>   23.978</td> <td> 0.000</td> <td>  475.606</td> <td>  560.392</td>\n",
       "</tr>\n",
       "<tr>\n",
       "  <th>email</th>        <td>   10.6598</td> <td>    4.701</td> <td>    2.268</td> <td> 0.024</td> <td>    1.435</td> <td>   19.884</td>\n",
       "</tr>\n",
       "<tr>\n",
       "  <th>credit_limit</th> <td>    0.1744</td> <td>    0.018</td> <td>    9.703</td> <td> 0.000</td> <td>    0.139</td> <td>    0.210</td>\n",
       "</tr>\n",
       "<tr>\n",
       "  <th>risk_score</th>   <td> -126.2032</td> <td>   84.942</td> <td>   -1.486</td> <td> 0.138</td> <td> -292.889</td> <td>   40.482</td>\n",
       "</tr>\n",
       "</table>"
      ],
      "text/plain": [
       "<class 'statsmodels.iolib.table.SimpleTable'>"
      ]
     },
     "execution_count": 132,
     "metadata": {},
     "output_type": "execute_result"
    }
   ],
   "source": [
    "email_1 = smf.ols('payments ~ email + credit_limit + risk_score', data=data).fit()\n",
    "email_1.summary().tables[1]"
   ]
  },
  {
   "cell_type": "code",
   "execution_count": 134,
   "id": "723ddaa3",
   "metadata": {},
   "outputs": [
    {
     "data": {
      "text/html": [
       "<table class=\"simpletable\">\n",
       "<tr>\n",
       "        <td></td>          <th>coef</th>     <th>std err</th>      <th>t</th>      <th>P>|t|</th>  <th>[0.025</th>    <th>0.975]</th>  \n",
       "</tr>\n",
       "<tr>\n",
       "  <th>Intercept</th>    <td>  515.6607</td> <td>   21.636</td> <td>   23.833</td> <td> 0.000</td> <td>  473.203</td> <td>  558.118</td>\n",
       "</tr>\n",
       "<tr>\n",
       "  <th>email</th>        <td>   10.8056</td> <td>    5.838</td> <td>    1.851</td> <td> 0.064</td> <td>   -0.651</td> <td>   22.263</td>\n",
       "</tr>\n",
       "<tr>\n",
       "  <th>credit_limit</th> <td>    0.1739</td> <td>    0.018</td> <td>    9.676</td> <td> 0.000</td> <td>    0.139</td> <td>    0.209</td>\n",
       "</tr>\n",
       "<tr>\n",
       "  <th>risk_score</th>   <td> -120.2882</td> <td>   85.005</td> <td>   -1.415</td> <td> 0.157</td> <td> -287.098</td> <td>   46.521</td>\n",
       "</tr>\n",
       "<tr>\n",
       "  <th>opened</th>       <td>  -11.4226</td> <td>    9.049</td> <td>   -1.262</td> <td> 0.207</td> <td>  -29.180</td> <td>    6.335</td>\n",
       "</tr>\n",
       "<tr>\n",
       "  <th>agreement</th>    <td>   17.3811</td> <td>    9.578</td> <td>    1.815</td> <td> 0.070</td> <td>   -1.415</td> <td>   36.177</td>\n",
       "</tr>\n",
       "</table>"
      ],
      "text/plain": [
       "<class 'statsmodels.iolib.table.SimpleTable'>"
      ]
     },
     "execution_count": 134,
     "metadata": {},
     "output_type": "execute_result"
    }
   ],
   "source": [
    "email_2 = smf.ols('payments ~ email + credit_limit + risk_score + opened + agreement', data=data).fit()\n",
    "email_2.summary().tables[1]"
   ]
  },
  {
   "cell_type": "code",
   "execution_count": null,
   "id": "0a32f362",
   "metadata": {},
   "outputs": [],
   "source": []
  },
  {
   "cell_type": "code",
   "execution_count": 131,
   "id": "4c68c9c0",
   "metadata": {},
   "outputs": [
    {
     "data": {
      "text/html": [
       "<div>\n",
       "<style scoped>\n",
       "    .dataframe tbody tr th:only-of-type {\n",
       "        vertical-align: middle;\n",
       "    }\n",
       "\n",
       "    .dataframe tbody tr th {\n",
       "        vertical-align: top;\n",
       "    }\n",
       "\n",
       "    .dataframe thead th {\n",
       "        text-align: right;\n",
       "    }\n",
       "</style>\n",
       "<table border=\"1\" class=\"dataframe\">\n",
       "  <thead>\n",
       "    <tr style=\"text-align: right;\">\n",
       "      <th></th>\n",
       "      <th>Unnamed: 0</th>\n",
       "      <th>payments</th>\n",
       "      <th>email</th>\n",
       "      <th>opened</th>\n",
       "      <th>agreement</th>\n",
       "      <th>credit_limit</th>\n",
       "      <th>risk_score</th>\n",
       "    </tr>\n",
       "  </thead>\n",
       "  <tbody>\n",
       "    <tr>\n",
       "      <th>0</th>\n",
       "      <td>0</td>\n",
       "      <td>600</td>\n",
       "      <td>1</td>\n",
       "      <td>1.0</td>\n",
       "      <td>0.0</td>\n",
       "      <td>635.808773</td>\n",
       "      <td>0.364162</td>\n",
       "    </tr>\n",
       "    <tr>\n",
       "      <th>1</th>\n",
       "      <td>1</td>\n",
       "      <td>800</td>\n",
       "      <td>1</td>\n",
       "      <td>0.0</td>\n",
       "      <td>0.0</td>\n",
       "      <td>1883.186365</td>\n",
       "      <td>0.616126</td>\n",
       "    </tr>\n",
       "    <tr>\n",
       "      <th>2</th>\n",
       "      <td>2</td>\n",
       "      <td>770</td>\n",
       "      <td>1</td>\n",
       "      <td>1.0</td>\n",
       "      <td>1.0</td>\n",
       "      <td>1644.876719</td>\n",
       "      <td>0.580663</td>\n",
       "    </tr>\n",
       "    <tr>\n",
       "      <th>3</th>\n",
       "      <td>3</td>\n",
       "      <td>560</td>\n",
       "      <td>0</td>\n",
       "      <td>0.0</td>\n",
       "      <td>0.0</td>\n",
       "      <td>836.434665</td>\n",
       "      <td>0.416654</td>\n",
       "    </tr>\n",
       "    <tr>\n",
       "      <th>4</th>\n",
       "      <td>4</td>\n",
       "      <td>790</td>\n",
       "      <td>0</td>\n",
       "      <td>0.0</td>\n",
       "      <td>0.0</td>\n",
       "      <td>1677.996148</td>\n",
       "      <td>0.594648</td>\n",
       "    </tr>\n",
       "  </tbody>\n",
       "</table>\n",
       "</div>"
      ],
      "text/plain": [
       "   Unnamed: 0  payments  email  opened  agreement  credit_limit  risk_score\n",
       "0           0       600      1     1.0        0.0    635.808773    0.364162\n",
       "1           1       800      1     0.0        0.0   1883.186365    0.616126\n",
       "2           2       770      1     1.0        1.0   1644.876719    0.580663\n",
       "3           3       560      0     0.0        0.0    836.434665    0.416654\n",
       "4           4       790      0     0.0        0.0   1677.996148    0.594648"
      ]
     },
     "execution_count": 131,
     "metadata": {},
     "output_type": "execute_result"
    }
   ],
   "source": [
    "data = pd.read_csv(\"/Users/cwwa/Desktop/ECON 570/A2/email1000.csv\")\n",
    "data.head()"
   ]
  },
  {
   "cell_type": "code",
   "execution_count": 133,
   "id": "da5e5251",
   "metadata": {},
   "outputs": [
    {
     "data": {
      "text/html": [
       "<table class=\"simpletable\">\n",
       "<tr>\n",
       "        <td></td>          <th>coef</th>     <th>std err</th>      <th>t</th>      <th>P>|t|</th>  <th>[0.025</th>    <th>0.975]</th>  \n",
       "</tr>\n",
       "<tr>\n",
       "  <th>Intercept</th>    <td>  517.9992</td> <td>   21.603</td> <td>   23.978</td> <td> 0.000</td> <td>  475.606</td> <td>  560.392</td>\n",
       "</tr>\n",
       "<tr>\n",
       "  <th>email</th>        <td>   10.6598</td> <td>    4.701</td> <td>    2.268</td> <td> 0.024</td> <td>    1.435</td> <td>   19.884</td>\n",
       "</tr>\n",
       "<tr>\n",
       "  <th>credit_limit</th> <td>    0.1744</td> <td>    0.018</td> <td>    9.703</td> <td> 0.000</td> <td>    0.139</td> <td>    0.210</td>\n",
       "</tr>\n",
       "<tr>\n",
       "  <th>risk_score</th>   <td> -126.2032</td> <td>   84.942</td> <td>   -1.486</td> <td> 0.138</td> <td> -292.889</td> <td>   40.482</td>\n",
       "</tr>\n",
       "</table>"
      ],
      "text/plain": [
       "<class 'statsmodels.iolib.table.SimpleTable'>"
      ]
     },
     "execution_count": 133,
     "metadata": {},
     "output_type": "execute_result"
    }
   ],
   "source": [
    "email_1 = smf.ols('payments ~ email + credit_limit + risk_score', data=data).fit()\n",
    "email_1.summary().tables[1]"
   ]
  },
  {
   "cell_type": "code",
   "execution_count": 135,
   "id": "3159ffb8",
   "metadata": {},
   "outputs": [
    {
     "data": {
      "text/html": [
       "<table class=\"simpletable\">\n",
       "<tr>\n",
       "        <td></td>          <th>coef</th>     <th>std err</th>      <th>t</th>      <th>P>|t|</th>  <th>[0.025</th>    <th>0.975]</th>  \n",
       "</tr>\n",
       "<tr>\n",
       "  <th>Intercept</th>    <td>  515.6607</td> <td>   21.636</td> <td>   23.833</td> <td> 0.000</td> <td>  473.203</td> <td>  558.118</td>\n",
       "</tr>\n",
       "<tr>\n",
       "  <th>email</th>        <td>   10.8056</td> <td>    5.838</td> <td>    1.851</td> <td> 0.064</td> <td>   -0.651</td> <td>   22.263</td>\n",
       "</tr>\n",
       "<tr>\n",
       "  <th>credit_limit</th> <td>    0.1739</td> <td>    0.018</td> <td>    9.676</td> <td> 0.000</td> <td>    0.139</td> <td>    0.209</td>\n",
       "</tr>\n",
       "<tr>\n",
       "  <th>risk_score</th>   <td> -120.2882</td> <td>   85.005</td> <td>   -1.415</td> <td> 0.157</td> <td> -287.098</td> <td>   46.521</td>\n",
       "</tr>\n",
       "<tr>\n",
       "  <th>opened</th>       <td>  -11.4226</td> <td>    9.049</td> <td>   -1.262</td> <td> 0.207</td> <td>  -29.180</td> <td>    6.335</td>\n",
       "</tr>\n",
       "<tr>\n",
       "  <th>agreement</th>    <td>   17.3811</td> <td>    9.578</td> <td>    1.815</td> <td> 0.070</td> <td>   -1.415</td> <td>   36.177</td>\n",
       "</tr>\n",
       "</table>"
      ],
      "text/plain": [
       "<class 'statsmodels.iolib.table.SimpleTable'>"
      ]
     },
     "execution_count": 135,
     "metadata": {},
     "output_type": "execute_result"
    }
   ],
   "source": [
    "email_2 = smf.ols('payments ~ email + credit_limit + risk_score + opened + agreement', data=data).fit()\n",
    "email_2.summary().tables[1]"
   ]
  },
  {
   "cell_type": "code",
   "execution_count": 136,
   "id": "4f21917c",
   "metadata": {},
   "outputs": [
    {
     "data": {
      "image/svg+xml": [
       "<?xml version=\"1.0\" encoding=\"UTF-8\" standalone=\"no\"?>\n",
       "<!DOCTYPE svg PUBLIC \"-//W3C//DTD SVG 1.1//EN\"\n",
       " \"http://www.w3.org/Graphics/SVG/1.1/DTD/svg11.dtd\">\n",
       "<!-- Generated by graphviz version 2.48.0 (0)\n",
       " -->\n",
       "<!-- Pages: 1 -->\n",
       "<svg width=\"308pt\" height=\"260pt\"\n",
       " viewBox=\"0.00 0.00 308.29 260.00\" xmlns=\"http://www.w3.org/2000/svg\" xmlns:xlink=\"http://www.w3.org/1999/xlink\">\n",
       "<g id=\"graph0\" class=\"graph\" transform=\"scale(1 1) rotate(0) translate(4 256)\">\n",
       "<polygon fill=\"white\" stroke=\"transparent\" points=\"-4,4 -4,-256 304.29,-256 304.29,4 -4,4\"/>\n",
       "<!-- email -->\n",
       "<g id=\"node1\" class=\"node\">\n",
       "<title>email</title>\n",
       "<ellipse fill=\"none\" stroke=\"black\" cx=\"31.2\" cy=\"-234\" rx=\"31.4\" ry=\"18\"/>\n",
       "<text text-anchor=\"middle\" x=\"31.2\" y=\"-230.3\" font-family=\"Times,serif\" font-size=\"14.00\">email</text>\n",
       "</g>\n",
       "<!-- payments -->\n",
       "<g id=\"node2\" class=\"node\">\n",
       "<title>payments</title>\n",
       "<ellipse fill=\"none\" stroke=\"black\" cx=\"173.2\" cy=\"-18\" rx=\"45.49\" ry=\"18\"/>\n",
       "<text text-anchor=\"middle\" x=\"173.2\" y=\"-14.3\" font-family=\"Times,serif\" font-size=\"14.00\">payments</text>\n",
       "</g>\n",
       "<!-- email&#45;&gt;payments -->\n",
       "<g id=\"edge1\" class=\"edge\">\n",
       "<title>email&#45;&gt;payments</title>\n",
       "<path fill=\"none\" stroke=\"black\" d=\"M26.44,-216.04C18.65,-184.42 6.98,-115.72 38.2,-72 56.91,-45.79 90.63,-32.54 119.69,-25.84\"/>\n",
       "<polygon fill=\"black\" stroke=\"black\" points=\"120.67,-29.21 129.74,-23.73 119.23,-22.36 120.67,-29.21\"/>\n",
       "</g>\n",
       "<!-- opened -->\n",
       "<g id=\"node3\" class=\"node\">\n",
       "<title>opened</title>\n",
       "<ellipse fill=\"none\" stroke=\"black\" cx=\"134.2\" cy=\"-162\" rx=\"37.09\" ry=\"18\"/>\n",
       "<text text-anchor=\"middle\" x=\"134.2\" y=\"-158.3\" font-family=\"Times,serif\" font-size=\"14.00\">opened</text>\n",
       "</g>\n",
       "<!-- email&#45;&gt;opened -->\n",
       "<g id=\"edge2\" class=\"edge\">\n",
       "<title>email&#45;&gt;opened</title>\n",
       "<path fill=\"none\" stroke=\"black\" d=\"M50.57,-219.83C65.86,-209.45 87.43,-194.79 104.83,-182.96\"/>\n",
       "<polygon fill=\"black\" stroke=\"black\" points=\"107.19,-185.58 113.5,-177.07 103.26,-179.79 107.19,-185.58\"/>\n",
       "</g>\n",
       "<!-- agreement -->\n",
       "<g id=\"node4\" class=\"node\">\n",
       "<title>agreement</title>\n",
       "<ellipse fill=\"none\" stroke=\"black\" cx=\"96.2\" cy=\"-90\" rx=\"48.99\" ry=\"18\"/>\n",
       "<text text-anchor=\"middle\" x=\"96.2\" y=\"-86.3\" font-family=\"Times,serif\" font-size=\"14.00\">agreement</text>\n",
       "</g>\n",
       "<!-- email&#45;&gt;agreement -->\n",
       "<g id=\"edge3\" class=\"edge\">\n",
       "<title>email&#45;&gt;agreement</title>\n",
       "<path fill=\"none\" stroke=\"black\" d=\"M38.78,-216.43C49.97,-191.98 71.02,-146 84.29,-117.02\"/>\n",
       "<polygon fill=\"black\" stroke=\"black\" points=\"87.48,-118.45 88.46,-107.9 81.12,-115.54 87.48,-118.45\"/>\n",
       "</g>\n",
       "<!-- opened&#45;&gt;payments -->\n",
       "<g id=\"edge4\" class=\"edge\">\n",
       "<title>opened&#45;&gt;payments</title>\n",
       "<path fill=\"none\" stroke=\"black\" d=\"M141.35,-144.04C145.49,-133.74 150.6,-120.27 154.2,-108 160.2,-87.57 165.15,-63.98 168.49,-46.22\"/>\n",
       "<polygon fill=\"black\" stroke=\"black\" points=\"171.95,-46.72 170.31,-36.25 165.07,-45.46 171.95,-46.72\"/>\n",
       "</g>\n",
       "<!-- opened&#45;&gt;agreement -->\n",
       "<g id=\"edge5\" class=\"edge\">\n",
       "<title>opened&#45;&gt;agreement</title>\n",
       "<path fill=\"none\" stroke=\"black\" d=\"M125.19,-144.41C120.71,-136.16 115.2,-126.01 110.19,-116.78\"/>\n",
       "<polygon fill=\"black\" stroke=\"black\" points=\"113.25,-115.07 105.4,-107.96 107.1,-118.41 113.25,-115.07\"/>\n",
       "</g>\n",
       "<!-- agreement&#45;&gt;payments -->\n",
       "<g id=\"edge6\" class=\"edge\">\n",
       "<title>agreement&#45;&gt;payments</title>\n",
       "<path fill=\"none\" stroke=\"black\" d=\"M113.67,-73.12C123.91,-63.81 137.01,-51.9 148.31,-41.62\"/>\n",
       "<polygon fill=\"black\" stroke=\"black\" points=\"150.75,-44.14 155.79,-34.82 146.04,-38.96 150.75,-44.14\"/>\n",
       "</g>\n",
       "<!-- credit_limit -->\n",
       "<g id=\"node5\" class=\"node\">\n",
       "<title>credit_limit</title>\n",
       "<ellipse fill=\"none\" stroke=\"black\" cx=\"133.2\" cy=\"-234\" rx=\"53.09\" ry=\"18\"/>\n",
       "<text text-anchor=\"middle\" x=\"133.2\" y=\"-230.3\" font-family=\"Times,serif\" font-size=\"14.00\">credit_limit</text>\n",
       "</g>\n",
       "<!-- credit_limit&#45;&gt;payments -->\n",
       "<g id=\"edge7\" class=\"edge\">\n",
       "<title>credit_limit&#45;&gt;payments</title>\n",
       "<path fill=\"none\" stroke=\"black\" d=\"M152.99,-217.09C163.23,-207.55 174.7,-194.49 180.2,-180 197.13,-135.39 188.39,-78.77 180.68,-45.93\"/>\n",
       "<polygon fill=\"black\" stroke=\"black\" points=\"184.05,-45.01 178.24,-36.15 177.26,-46.7 184.05,-45.01\"/>\n",
       "</g>\n",
       "<!-- credit_limit&#45;&gt;opened -->\n",
       "<g id=\"edge8\" class=\"edge\">\n",
       "<title>credit_limit&#45;&gt;opened</title>\n",
       "<path fill=\"none\" stroke=\"black\" d=\"M133.44,-215.7C133.55,-207.98 133.69,-198.71 133.81,-190.11\"/>\n",
       "<polygon fill=\"black\" stroke=\"black\" points=\"137.31,-190.15 133.95,-180.1 130.31,-190.05 137.31,-190.15\"/>\n",
       "</g>\n",
       "<!-- credit_limit&#45;&gt;agreement -->\n",
       "<g id=\"edge9\" class=\"edge\">\n",
       "<title>credit_limit&#45;&gt;agreement</title>\n",
       "<path fill=\"none\" stroke=\"black\" d=\"M114.23,-216.92C104.42,-207.34 93.44,-194.28 88.2,-180 80.86,-160.04 83.68,-135.93 87.88,-117.84\"/>\n",
       "<polygon fill=\"black\" stroke=\"black\" points=\"91.32,-118.53 90.44,-107.97 84.54,-116.77 91.32,-118.53\"/>\n",
       "</g>\n",
       "<!-- risk_score -->\n",
       "<g id=\"node6\" class=\"node\">\n",
       "<title>risk_score</title>\n",
       "<ellipse fill=\"none\" stroke=\"black\" cx=\"252.2\" cy=\"-234\" rx=\"48.19\" ry=\"18\"/>\n",
       "<text text-anchor=\"middle\" x=\"252.2\" y=\"-230.3\" font-family=\"Times,serif\" font-size=\"14.00\">risk_score</text>\n",
       "</g>\n",
       "<!-- risk_score&#45;&gt;payments -->\n",
       "<g id=\"edge10\" class=\"edge\">\n",
       "<title>risk_score&#45;&gt;payments</title>\n",
       "<path fill=\"none\" stroke=\"black\" d=\"M248.03,-215.68C240.57,-185.74 223.67,-122.66 202.2,-72 198.29,-62.78 193.26,-53.07 188.5,-44.51\"/>\n",
       "<polygon fill=\"black\" stroke=\"black\" points=\"191.49,-42.7 183.49,-35.76 185.42,-46.17 191.49,-42.7\"/>\n",
       "</g>\n",
       "<!-- risk_score&#45;&gt;opened -->\n",
       "<g id=\"edge11\" class=\"edge\">\n",
       "<title>risk_score&#45;&gt;opened</title>\n",
       "<path fill=\"none\" stroke=\"black\" d=\"M227.75,-218.5C209.8,-207.85 185.26,-193.29 165.82,-181.76\"/>\n",
       "<polygon fill=\"black\" stroke=\"black\" points=\"167.4,-178.63 157.01,-176.54 163.83,-184.65 167.4,-178.63\"/>\n",
       "</g>\n",
       "<!-- risk_score&#45;&gt;agreement -->\n",
       "<g id=\"edge12\" class=\"edge\">\n",
       "<title>risk_score&#45;&gt;agreement</title>\n",
       "<path fill=\"none\" stroke=\"black\" d=\"M241.14,-216.2C228.08,-197.21 205,-166.05 180.2,-144 165.76,-131.17 147.88,-119.42 132.32,-110.26\"/>\n",
       "<polygon fill=\"black\" stroke=\"black\" points=\"133.9,-107.12 123.48,-105.18 130.41,-113.19 133.9,-107.12\"/>\n",
       "</g>\n",
       "</g>\n",
       "</svg>\n"
      ],
      "text/plain": [
       "<graphviz.graphs.Digraph at 0x7f8b718af100>"
      ]
     },
     "execution_count": 136,
     "metadata": {},
     "output_type": "execute_result"
    }
   ],
   "source": [
    "g = gr.Digraph()\n",
    "\n",
    "g.edge(\"email\", \"payments\")\n",
    "g.edge(\"email\", \"opened\")\n",
    "g.edge(\"email\", \"agreement\")\n",
    "g.edge(\"opened\", \"payments\")\n",
    "g.edge(\"opened\", \"agreement\")\n",
    "g.edge(\"agreement\", \"payments\")\n",
    "\n",
    "g.edge(\"credit_limit\", \"payments\")\n",
    "g.edge(\"credit_limit\", \"opened\")\n",
    "g.edge(\"credit_limit\", \"agreement\")\n",
    "g.edge(\"risk_score\", \"payments\")\n",
    "g.edge(\"risk_score\", \"opened\")\n",
    "g.edge(\"risk_score\", \"agreement\")\n",
    "\n",
    "g"
   ]
  },
  {
   "cell_type": "markdown",
   "id": "c717899d",
   "metadata": {},
   "source": [
    "Real life connection:\n",
    "selection bias shows the wrong relationship from X with Y. It will affects that the correctness for the regression model. \n",
    "if the Y is the salary for people, T is the education, and white dollar is the selection bias for selecting x to esmitae Y."
   ]
  },
  {
   "cell_type": "code",
   "execution_count": null,
   "id": "6b1c9a70",
   "metadata": {},
   "outputs": [],
   "source": []
  },
  {
   "cell_type": "code",
   "execution_count": null,
   "id": "84fa0d91",
   "metadata": {},
   "outputs": [],
   "source": []
  },
  {
   "cell_type": "code",
   "execution_count": null,
   "id": "010cb052",
   "metadata": {},
   "outputs": [],
   "source": []
  },
  {
   "cell_type": "code",
   "execution_count": null,
   "id": "a041ab06",
   "metadata": {},
   "outputs": [],
   "source": []
  },
  {
   "cell_type": "code",
   "execution_count": null,
   "id": "c110ad21",
   "metadata": {},
   "outputs": [],
   "source": []
  },
  {
   "cell_type": "code",
   "execution_count": null,
   "id": "19f775ab",
   "metadata": {},
   "outputs": [],
   "source": [
    "\n"
   ]
  },
  {
   "cell_type": "code",
   "execution_count": null,
   "id": "6a93053c",
   "metadata": {},
   "outputs": [],
   "source": []
  },
  {
   "cell_type": "code",
   "execution_count": null,
   "id": "666a35d0",
   "metadata": {},
   "outputs": [],
   "source": []
  },
  {
   "cell_type": "code",
   "execution_count": null,
   "id": "d223a33b",
   "metadata": {},
   "outputs": [],
   "source": []
  },
  {
   "cell_type": "code",
   "execution_count": null,
   "id": "0856ea64",
   "metadata": {},
   "outputs": [],
   "source": []
  }
 ],
 "metadata": {
  "kernelspec": {
   "display_name": "Python 3 (ipykernel)",
   "language": "python",
   "name": "python3"
  },
  "language_info": {
   "codemirror_mode": {
    "name": "ipython",
    "version": 3
   },
   "file_extension": ".py",
   "mimetype": "text/x-python",
   "name": "python",
   "nbconvert_exporter": "python",
   "pygments_lexer": "ipython3",
   "version": "3.9.12"
  }
 },
 "nbformat": 4,
 "nbformat_minor": 5
}
